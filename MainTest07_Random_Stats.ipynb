{
 "cells": [
  {
   "cell_type": "code",
   "execution_count": 1,
   "id": "25640d86",
   "metadata": {},
   "outputs": [],
   "source": [
    "import random as rnd\n",
    "import queue\n",
    "import statistics as stat\n",
    "from tabulate import tabulate\n",
    "import matplotlib.pyplot as plt\n",
    "import numpy as np\n",
    "from math import sqrt\n",
    "import random\n",
    "import copy\n",
    "import timeit\n",
    "import csv\n",
    "from bisect import insort"
   ]
  },
  {
   "cell_type": "code",
   "execution_count": 2,
   "id": "d92934b4",
   "metadata": {},
   "outputs": [],
   "source": [
    "wait_Master = {'TP' : []}\n",
    "\n",
    "for i in range(1, 4):\n",
    "    global out\n",
    "    myKeywMs = 'L' + str(i) #Lands Waits Master List\n",
    "    wait_Master[myKeywMs] = []\n",
    "    for j in range(1, 4): \n",
    "        myKey8 = 'A' + str(i) + str(j) #Attraction Waits Master List\n",
    "        wait_Master[myKey8] = []   "
   ]
  },
  {
   "cell_type": "code",
   "execution_count": 85,
   "id": "9d624f3d",
   "metadata": {},
   "outputs": [],
   "source": [
    "# This program will simulate customers going through a Theme Park, with attractions for each land to be visited in a random manner.\n",
    "# Future implementation is to implement ML techniques in choosing lands and attractions.\n",
    "\n",
    "### PARAMETERS ###\n",
    "param = {'_lambda':0.2, #Inter Arrival Time (IAT) in seconds (expovar)\n",
    "         '_STsec': 0.25, #Security Check service time in seconds (expovar), twice the iat (for now, why?)\n",
    "         '_TBA': 1/(10*60), #Time Between  Attractions (expovar), consider this as walking time\n",
    "         '_TBL': 1/(15*60), #Time Between  lands (expovar), consider this as walking time\n",
    "         'Tot_Sim_Time': 10*60*60, #Total time of simulation (in seconds)\n",
    "         'TTC_TH': 1*60*60 #Time Til Close Threshold (in seconds)\n",
    "        }\n",
    "\n",
    "### STATE VARS ###\n",
    "state_var = {'cust_in_TP': 0,\n",
    "             'SBsec': False,\n",
    "             'qsec': 0,\n",
    "             'ID_list_LC':[]\n",
    "            } #Number of customers currently in the theme park\n",
    "\n",
    "### OUTVARS ###\n",
    "out_var = {'Count_Arrival_Ev': 0,\n",
    "           'TPA': [],\n",
    "           'TPD': [],\n",
    "           'sec_arr':[],\n",
    "           'sec_dep': [],\n",
    "           'First_land_choice':[]\n",
    "          }\n",
    "\n",
    "### ATTRIBUTES ###\n",
    "cust_att= [] #Nested list denoting if customer has visited rides - ELABORATE?\n",
    "attr = [] #All customer attributes shall be contained in this list, where their index is the ID\n",
    "evList_ID = [] #All customer  events shall be contained here for reference\n",
    "\n",
    "### SYSTEMIZING THE DEFINITION OF PARAMS, STATE_VARS, OUT_VARS AND CUST_ATT ###\n",
    "\n",
    "LN = 3 #Number of lands in the Theme Park\n",
    "AN = 3 #Number of attractions in each land\n",
    "\n",
    "AC_param = [[220, 46, 30], [166, 47, 37], [140, 50, 40]]\n",
    "ST_param = [[11, 3.25, 2.5], [20.75, 2, 2.75], [3.5, 2.5, 4.75]]\n",
    "\n",
    "for i in range(1, LN+1):\n",
    "    cust_att.append([False]*AN) #Create an attribute list template for customers arriving\n",
    "    myKeyLandsArr = 'arrs_L' + str(i) #Record Arrival times in each land\n",
    "    out_var[myKeyLandsArr] = []\n",
    "    myKeyLandsDep = 'deps_L' + str(i) #Record Departure times in each land\n",
    "    out_var[myKeyLandsDep] = []\n",
    "    myKeyIDLs = 'ID_list_L' + str(i) #Record ID numbers of people in Land # (TEMPORARY, DO NOT USE FOR ANALYSIS, USE ARRS AND DEPS)\n",
    "    state_var[myKeyIDLs] = []\n",
    "    myKeyIDLs = 'custs_in_L' + str(i) #Record number of people in Land #\n",
    "    state_var[myKeyIDLs] = 0\n",
    "    myKeyIDACs = 'ID_list_AC' + str(i) #Record ID numbers of customers to be transferred to attraction choice func.\n",
    "    state_var[myKeyIDACs] = []\n",
    "    for j in range(1, AN+1):\n",
    "        myKey1 = 'ST' + str(i) + str(j) #Service time for each attraction, arbitrary random times for now.\n",
    "        param[myKey1] = ST_param[i-1][j-1]*60\n",
    "        myKey2 = 'AC' + str(i) + str(j) #Attraction customer capacity,  arbitrary random numbers for now.\n",
    "        param[myKey2] = AC_param[i-1][j-1]\n",
    "        myKey3 = 'SB' + str(i) + str(j) #Server Busy state\n",
    "        state_var[myKey3] = False\n",
    "        myKey4 = 'q' + str(i) + str(j) #Queue length\n",
    "        state_var[myKey4] = 0\n",
    "        myKey7 = 'ID_list_A' + str(i) + str(j) #Queue length\n",
    "        state_var[myKey7] = []\n",
    "        myKey5 = 'arrs_A' + str(i) + str(j) #Arrival times for each attraction\n",
    "        out_var[myKey5] = []\n",
    "        myKey6 = 'deps_A' + str(i) + str(j) #Departure times for each attraction\n",
    "        out_var[myKey6] = []      \n",
    "\n",
    "### SAMPLE PATH (SP) ###\n",
    "global SP\n",
    "global SP1 #Queue Sample Path\n",
    "global SP2 #Consistency, Atts\n",
    "global SP3 #Consistency, Lands\n",
    "SP = []\n",
    "SP1 = []\n",
    "SP2 = []\n",
    "SP3 = []"
   ]
  },
  {
   "cell_type": "code",
   "execution_count": 86,
   "id": "663baf79",
   "metadata": {},
   "outputs": [],
   "source": [
    "# Define the global event list\n",
    "evList = queue.PriorityQueue() #Try PriorityQueue? (no prioriy)\n",
    "\n",
    "### Define the Event Generators ###\n",
    "\n",
    "### ARRIVAL EVENT GENERATORS ###\n",
    "def get_next_arrival_event_TP (clock, param):\n",
    "    out_var['Count_Arrival_Ev'] += 1\n",
    "    iat = rnd.expovariate(param['_lambda'])\n",
    "    ev = (clock+iat, \"Arrival to Theme Park\", arrival_event_handler_TP)\n",
    "    return ev    \n",
    "    \n",
    "def get_start_security_check_event (clock, param):\n",
    "    ev = (clock, \"Security Check 1 Start\", security_check_event_handler)\n",
    "    return ev\n",
    "\n",
    "def get_land_choice (clock, param, cust_id): #For any customer id as an argument, add this customer Id to its corresponding event hanlder list as follows:\n",
    "    state_var['ID_list_LC'].append(cust_id)\n",
    "    # No expovar time, Expovar time only occurs after choice  is made.\n",
    "    ev = (clock, \"Land Choice for Customer#(\" + str(cust_id)+\")\", land_choice_event_handler)\n",
    "    evList_ID[cust_id].append(ev[1])\n",
    "    return ev\n",
    "\n",
    "### Land 1 ###\n",
    "def get_enter_land_1_event(clock, param, cust_id):\n",
    "    # EXPOVARIATE RANDOM TIME (AVERAGE OF '_TBL' MINUTES WALK)\n",
    "    st = rnd.expovariate(param['_TBL'])\n",
    "    insort(state_var['ID_list_L1'], [(clock+st), cust_id])\n",
    "    ev = (clock+st, \"Customer Enters Land 1, #(\" + str(cust_id)+\")\", land_1_arr_event_handler)\n",
    "    evList_ID[cust_id].append(ev[1])\n",
    "    return ev\n",
    "\n",
    "def get_att_1x_choice (clock, param, cust_id): #AC1 - Attraction Choice for land 1\n",
    "    # EXPOVARIATE RANDOM TIME (AVERAGE OF '_TBA' MINUTES WALK)\n",
    "    st = rnd.expovariate(param['_TBA'])\n",
    "    insort(state_var['ID_list_AC1'], [(clock+st), cust_id])\n",
    "    ev = (clock+st, \"Attraction 1x Choice for Customer#(\" + str(cust_id)+\")\", att_1x_choice_event_handler)\n",
    "    evList_ID[cust_id].append(ev[1])\n",
    "    return ev\n",
    "\n",
    "def get_start_att_11_event(clock, param, cust_id):\n",
    "    ev = (clock, \"Customer Enters Attraction 11, #(\" + str(cust_id)+\")\", start_att_11_event_handler)\n",
    "    evList_ID[cust_id].append(ev[1])\n",
    "    return(ev)\n",
    "\n",
    "def get_start_att_12_event(clock, param, cust_id):\n",
    "    ev = (clock, \"Customer Enters Attraction 12, #(\" + str(cust_id)+\")\", start_att_12_event_handler)\n",
    "    evList_ID[cust_id].append(ev[1])\n",
    "    return(ev)\n",
    "\n",
    "def get_start_att_13_event(clock, param, cust_id):\n",
    "    ev = (clock, \"Customer Enters Attraction 13, #(\" + str(cust_id)+\")\", start_att_13_event_handler)\n",
    "    evList_ID[cust_id].append(ev[1])\n",
    "    return(ev)\n",
    "\n",
    "### Land 2 ###\n",
    "def get_enter_land_2_event(clock, param, cust_id):\n",
    "    # EXPOVARIATE RANDOM TIME (AVERAGE OF '_TBL' MINUTES WALK)\n",
    "    st = rnd.expovariate(param['_TBL'])\n",
    "    insort(state_var['ID_list_L2'], [(clock+st), cust_id])\n",
    "    ev = (clock+st, \"Customer Enters Land 2, #(\" + str(cust_id)+\")\", land_2_arr_event_handler)\n",
    "    evList_ID[cust_id].append(ev[1])\n",
    "    return ev\n",
    "\n",
    "def get_att_2x_choice (clock, param, cust_id): #AC2 - Attraction Choice for land 2\n",
    "    # EXPOVARIATE RANDOM TIME (AVERAGE OF '_TBA' MINUTES WALK)\n",
    "    st = rnd.expovariate(param['_TBA'])\n",
    "    insort(state_var['ID_list_AC2'], [(clock+st), cust_id])\n",
    "    ev = (clock+st, \"Attraction 2x Choice for Customer#(\" + str(cust_id)+\")\", att_2x_choice_event_handler)\n",
    "    evList_ID[cust_id].append(ev[1])\n",
    "    return ev\n",
    "\n",
    "def get_start_att_21_event(clock, param, cust_id):\n",
    "    ev = (clock, \"Customer Enters Attraction 21, #(\" + str(cust_id)+\")\", start_att_21_event_handler)\n",
    "    evList_ID[cust_id].append(ev[1])\n",
    "    return(ev)\n",
    "\n",
    "def get_start_att_22_event(clock, param, cust_id):\n",
    "    ev = (clock, \"Customer Enters Attraction 22, #(\" + str(cust_id)+\")\", start_att_22_event_handler)\n",
    "    evList_ID[cust_id].append(ev[1])\n",
    "    return(ev)\n",
    "\n",
    "def get_start_att_23_event(clock, param, cust_id):\n",
    "    ev = (clock, \"Customer Enters Attraction 23, #(\" + str(cust_id)+\")\", start_att_23_event_handler)\n",
    "    evList_ID[cust_id].append(ev[1])\n",
    "    return(ev)\n",
    "\n",
    "### Land 3 ###\n",
    "def get_enter_land_3_event(clock, param, cust_id):\n",
    "    # EXPOVARIATE RANDOM TIME (AVERAGE OF '_TBL' MINUTES WALK)\n",
    "    st = rnd.expovariate(param['_TBL'])\n",
    "    insort(state_var['ID_list_L3'], [(clock+st), cust_id])\n",
    "    ev = (clock+st, \"Customer Enters Land 3, #(\" + str(cust_id)+\")\", land_3_arr_event_handler)\n",
    "    evList_ID[cust_id].append(ev[1])\n",
    "    return ev\n",
    "\n",
    "def get_att_3x_choice (clock, param, cust_id): #AC3 - Attraction Choice for land 3\n",
    "    # EXPOVARIATE RANDOM TIME (AVERAGE OF '_TBA' MINUTES WALK)\n",
    "    st = rnd.expovariate(param['_TBA'])\n",
    "    insort(state_var['ID_list_AC3'], [(clock+st), cust_id])\n",
    "    ev = (clock+st, \"Attraction 3x Choice for Customer#(\" + str(cust_id)+\")\", att_3x_choice_event_handler)\n",
    "    evList_ID[cust_id].append(ev[1])\n",
    "    return ev\n",
    "\n",
    "def get_start_att_31_event(clock, param, cust_id):\n",
    "    ev = (clock, \"Customer Enters Attraction 31, #(\" + str(cust_id)+\")\", start_att_31_event_handler)\n",
    "    evList_ID[cust_id].append(ev[1])\n",
    "    return(ev)\n",
    "\n",
    "def get_start_att_32_event(clock, param, cust_id):\n",
    "    ev = (clock, \"Customer Enters Attraction 32, #(\" + str(cust_id)+\")\", start_att_32_event_handler)\n",
    "    evList_ID[cust_id].append(ev[1])\n",
    "    return(ev)\n",
    "\n",
    "def get_start_att_33_event(clock, param, cust_id):\n",
    "    ev = (clock, \"Customer Enters Attraction 33, #(\" + str(cust_id)+\")\", start_att_33_event_handler)\n",
    "    evList_ID[cust_id].append(ev[1])\n",
    "    return(ev)\n",
    "\n",
    "\n",
    "### DEPRTURE EVENT GENERATORS ###\n",
    "def get_next_departure_event_security_check (clock, param):\n",
    "    st = rnd.expovariate(param['_STsec'])\n",
    "    ev = (clock+st, \"Security Check 1 End\", departure_event_handler_security_check)\n",
    "    return ev\n",
    "\n",
    "### Land 1 ###\n",
    "def get_exit_land_1_event(clock, param, cust_id):\n",
    "    ev = (clock, \"Customer Exits Land 1, #(\" + str(cust_id)+\")\", land_1_arr_event_handler)\n",
    "    evList_ID[cust_id].append(ev[1])\n",
    "    return ev\n",
    "\n",
    "def get_depart_att_11_event(clock, param):\n",
    "    st = param['ST11']\n",
    "    ev = (clock+st, \"Customers Leaving Attraction 11\", depart_att_11_event_handler)\n",
    "    return(ev)\n",
    "\n",
    "def get_depart_att_12_event(clock, param):\n",
    "    st = param['ST12']\n",
    "    ev = (clock+st, \"Customers Leaving Attraction 12\", depart_att_12_event_handler)\n",
    "    return(ev)\n",
    "\n",
    "def get_depart_att_13_event(clock, param):\n",
    "    st = param['ST13']\n",
    "    ev = (clock+st, \"Customers Leaving Attraction 13\", depart_att_13_event_handler)\n",
    "    return(ev)\n",
    "\n",
    "### Land 2 ###\n",
    "def get_exit_land_2_event(clock, param, cust_id):\n",
    "    ev = (clock, \"Customer Exits Land 2, #(\" + str(cust_id)+\")\", land_2_arr_event_handler)\n",
    "    evList_ID[cust_id].append(ev[1])\n",
    "    return ev\n",
    "\n",
    "def get_depart_att_21_event(clock, param):\n",
    "    st = param['ST21']\n",
    "    ev = (clock+st, \"Customers Leaving Attraction 21\", depart_att_21_event_handler)\n",
    "    return(ev)\n",
    "\n",
    "def get_depart_att_22_event(clock, param):\n",
    "    st = param['ST22']\n",
    "    ev = (clock+st, \"Customers Leaving Attraction 22\", depart_att_22_event_handler)\n",
    "    return(ev)\n",
    "\n",
    "def get_depart_att_23_event(clock, param):\n",
    "    st = param['ST23']\n",
    "    ev = (clock+st, \"Customers Leaving Attraction 23\", depart_att_23_event_handler)\n",
    "    return(ev)\n",
    "\n",
    "### Land 3 ###\n",
    "def get_exit_land_3_event(clock, param, cust_id):\n",
    "    ev = (clock, \"Customer Exits Land 3, #(\" + str(cust_id)+\")\", land_3_arr_event_handler)\n",
    "    evList_ID[cust_id].append(ev[1])\n",
    "    return ev\n",
    "\n",
    "def get_depart_att_31_event(clock, param):\n",
    "    st = param['ST31']\n",
    "    ev = (clock+st, \"Customers Leaving Attraction 31\", depart_att_31_event_handler)\n",
    "    return(ev)\n",
    "\n",
    "def get_depart_att_32_event(clock, param):\n",
    "    st = param['ST32']\n",
    "    ev = (clock+st, \"Customers Leaving Attraction 32\", depart_att_32_event_handler)\n",
    "    return(ev)\n",
    "\n",
    "def get_depart_att_33_event(clock, param):\n",
    "    st = param['ST33']\n",
    "    ev = (clock+st, \"Customers Leaving Attraction 33\", depart_att_33_event_handler)\n",
    "    return(ev)\n",
    "\n",
    "### Theme Park Departure ###\n",
    "def get_next_departure_event_TP (clock, param, cust_id):\n",
    "    out_var['TPD'].append([clock, cust_id])\n",
    "    ev = (clock, \"Departure from Theme Park, #(\" + str(cust_id)+\")\", departure_event_handler_TP)\n",
    "    evList_ID[cust_id].append(ev[1])\n",
    "    return ev\n"
   ]
  },
  {
   "cell_type": "code",
   "execution_count": 87,
   "id": "4dd7ec95",
   "metadata": {},
   "outputs": [],
   "source": [
    "# Define Event handlers\n",
    "\n",
    "# ARRIVALS ___________________\n",
    "def arrival_event_handler_TP (clock, state_var, out_var, param, att): # Commented lines are for future use\n",
    "    if (True):   # Check if time til close is greater than threshold\n",
    "        state_var['cust_in_TP'] += 1                # Increase number of customers in theme park\n",
    "        out_var['TPA'].append(clock)                # Record arrival time to Theme park        \n",
    "        state_var['qsec'] += 1                # Essentially, make customer enter queue 1\n",
    "        if (state_var['SBsec'] == False) and (state_var['qsec'] >= 1): #If conditions are satisfied, start security check\n",
    "            schedule_event(get_start_security_check_event(clock, param))        \n",
    "    if (param['Tot_Sim_Time']-clock) > param['TTC_TH']: #Check if time til close is greater than threshold\n",
    "        schedule_event(get_next_arrival_event_TP(clock, param)) #Generate New Arrival to keep program running\n",
    "\n",
    "def security_check_event_handler (clock, state_var, out_var, param, att):\n",
    "    state_var['SBsec'] = True #Make the security guard busy\n",
    "    state_var['qsec'] -= 1    #Remove person doing the security check from queue\n",
    "    out_var['sec_arr'].append(clock)\n",
    "    schedule_event(get_next_departure_event_security_check(clock, param))\n",
    "    \n",
    "def land_choice_event_handler (clock, state_var, out_var, param, att):\n",
    "    cust_id = state_var['ID_list_LC'].pop(0)\n",
    "    land_options = [] #Initialize land options, ie. lands customer can visit\n",
    "    for land_index in range(0, LN):\n",
    "        first_element = attr[cust_id][land_index][0] #Grab first attraction state\n",
    "        for state in attr[cust_id][land_index]:\n",
    "            if (first_element != state):\n",
    "                raise Exception(\"Customer (\" + str(cust_id) + \") has not visited all rides\") #Remove in next revision\n",
    "        land_options.append(not(first_element)) #append the negation of of ride, as in, if customer visited attractions in land 1, it is not availabe as an option\n",
    "    choice_list = [] #Initialize choice list, this list contains only the land numbers that are permitted to be entered\n",
    "    for i in range(len(land_options)):\n",
    "        if land_options[i]: #If land is availabe, ie. true\n",
    "            choice_list.append(i+1) #append land number in choice list from land options list\n",
    "    if (len(choice_list) == 0) :\n",
    "        schedule_event(get_next_departure_event_TP(clock, param, cust_id))\n",
    "    else:\n",
    "        final_choice = random.choice(choice_list) # Use NN to choose least wait\n",
    "        if final_choice == 1:\n",
    "            schedule_event(get_enter_land_1_event(clock, param, cust_id))\n",
    "        if final_choice == 2:\n",
    "            schedule_event(get_enter_land_2_event(clock, param, cust_id))\n",
    "        if final_choice == 3:\n",
    "            schedule_event(get_enter_land_3_event(clock, param, cust_id))\n",
    "        \n",
    "\n",
    "### LAND 1 ARRIVAL EVENT HANDLERS ###            \n",
    "def land_1_arr_event_handler (clock, state_var, out_var, param, att):\n",
    "    cust_id = (state_var['ID_list_L1'].pop(0))[1]  #Best I could do, hope 'insort' does the job correctly\n",
    "    out_var['arrs_L1'].append([clock, cust_id, state_var['custs_in_L1']])\n",
    "    state_var['custs_in_L1'] += 1    #DEPENDANT ON ABOVE!\n",
    "    schedule_event(get_att_1x_choice(clock, param, cust_id))\n",
    "        \n",
    "def att_1x_choice_event_handler (clock, state_var, out_var, param, att):\n",
    "    cust_id = (state_var['ID_list_AC1'].pop(0))[1] #Best I could do, hope 'insort' does the job correctly\n",
    "    att_options = [] #Initialize attraction options, ie. attractions customer can visit\n",
    "    choice_list = [] #Initialize choice list, this list contains only the attraction numbers that are permitted to be entered\n",
    "    for att_index in range(0, AN):\n",
    "        att_options.append(not(attr[cust_id][0][att_index])) #append the negation of attraction, as in, if customer visited attraction already, it is not availabe as an option\n",
    "    for i in range(len(att_options)):\n",
    "        if att_options[i]: #If land is availabe, ie. true\n",
    "            choice_list.append(i+1) #append land number in choice list from land options list\n",
    "    if len(choice_list) == 0:\n",
    "        out_var['deps_L1'].append([clock, cust_id])\n",
    "        state_var['custs_in_L1'] -= 1\n",
    "        schedule_event(get_land_choice(clock, param, cust_id)) #get_land_choice is equivalent to exit land \n",
    "    else:\n",
    "        final_choice = random.choice(choice_list)\n",
    "        if final_choice == 1:\n",
    "            out_var['arrs_A11'].append([clock, cust_id, state_var['q11']])\n",
    "            state_var['q11'] +=1\n",
    "            state_var['ID_list_A11'].append(cust_id)\n",
    "            schedule_event(get_start_att_11_event(clock, param, cust_id))\n",
    "        if final_choice == 2:\n",
    "            out_var['arrs_A12'].append([clock, cust_id, state_var['q12']])\n",
    "            state_var['q12'] +=1\n",
    "            state_var['ID_list_A12'].append(cust_id)\n",
    "            schedule_event(get_start_att_12_event(clock, param, cust_id))\n",
    "        if final_choice == 3:\n",
    "            out_var['arrs_A13'].append([clock, cust_id, state_var['q13']])\n",
    "            state_var['q13'] +=1\n",
    "            state_var['ID_list_A13'].append(cust_id)\n",
    "            schedule_event(get_start_att_13_event(clock, param, cust_id))\n",
    "\n",
    "def start_att_11_event_handler (clock, state_var, out_var, param, att):\n",
    "    if (state_var['q11'] >= param['AC11'] and state_var['SB11'] == False):\n",
    "        state_var['SB11'] = True\n",
    "        state_var['q11'] -= param['AC11']\n",
    "        schedule_event(get_depart_att_11_event(clock, param))\n",
    "        \n",
    "def start_att_12_event_handler (clock, state_var, out_var, param, att):\n",
    "    if (state_var['q12'] >= param['AC12'] and state_var['SB12'] == False):\n",
    "        state_var['SB12'] = True\n",
    "        state_var['q12'] -= param['AC12']\n",
    "        schedule_event(get_depart_att_12_event(clock, param))\n",
    "\n",
    "def start_att_13_event_handler (clock, state_var, out_var, param, att):\n",
    "    if (state_var['q13'] >= param['AC13'] and state_var['SB13'] == False):\n",
    "        state_var['SB13'] = True\n",
    "        state_var['q13'] -= param['AC13']\n",
    "        schedule_event(get_depart_att_13_event(clock, param))\n",
    "        \n",
    "        \n",
    "### LAND 2 ARRIVAL EVENT HANDLERS ###            \n",
    "def land_2_arr_event_handler (clock, state_var, out_var, param, att):\n",
    "    cust_id = (state_var['ID_list_L2'].pop(0))[1]     #insort\n",
    "    out_var['arrs_L2'].append([clock, cust_id, state_var['custs_in_L1']])\n",
    "    state_var['custs_in_L2'] += 1                 #DEPENDANT ON ABOVE!\n",
    "    schedule_event(get_att_2x_choice(clock, param, cust_id))\n",
    "        \n",
    "def att_2x_choice_event_handler (clock, state_var, out_var, param, att):\n",
    "    cust_id = (state_var['ID_list_AC2'].pop(0))[1]\n",
    "    att_options = [] #Initialize attraction options, ie. attractions customer can visit\n",
    "    choice_list = [] #Initialize choice list, this list contains only the attraction numbers that are permitted to be entered\n",
    "    for att_index in range(0, AN):\n",
    "        att_options.append(not(attr[cust_id][1][att_index])) #append the negation of attraction, as in, if customer visited attraction already, it is not availabe as an option\n",
    "    for i in range(len(att_options)):\n",
    "        if att_options[i]: #If land is availabe, ie. true\n",
    "            choice_list.append(i+1) #append land number in choice list from land options list\n",
    "    if len(choice_list) == 0:\n",
    "        out_var['deps_L2'].append([clock, cust_id])\n",
    "        state_var['custs_in_L2'] -= 1\n",
    "        schedule_event(get_land_choice(clock, param, cust_id)) #get_land_choice is equivalent to exit land \n",
    "    else:\n",
    "        final_choice = random.choice(choice_list) # (clock, param, state_var, choice_list, 2)\n",
    "        if final_choice == 1:\n",
    "            out_var['arrs_A21'].append([clock, cust_id, state_var['q21']])\n",
    "            state_var['q21'] +=1\n",
    "            state_var['ID_list_A21'].append(cust_id)\n",
    "            schedule_event(get_start_att_21_event(clock, param, cust_id))\n",
    "        if final_choice == 2:\n",
    "            out_var['arrs_A22'].append([clock, cust_id, state_var['q22']])\n",
    "            state_var['q22'] +=1\n",
    "            state_var['ID_list_A22'].append(cust_id)\n",
    "            schedule_event(get_start_att_22_event(clock, param, cust_id))\n",
    "        if final_choice == 3:\n",
    "            out_var['arrs_A23'].append([clock, cust_id, state_var['q23']])\n",
    "            state_var['q23'] +=1\n",
    "            state_var['ID_list_A23'].append(cust_id)\n",
    "            schedule_event(get_start_att_23_event(clock, param, cust_id))\n",
    "\n",
    "def start_att_21_event_handler (clock, state_var, out_var, param, att):\n",
    "    if (state_var['q21'] >= param['AC21'] and state_var['SB21'] == False):\n",
    "        state_var['SB21'] = True\n",
    "        state_var['q21'] -= param['AC21']\n",
    "        schedule_event(get_depart_att_21_event(clock, param))\n",
    "        \n",
    "def start_att_22_event_handler (clock, state_var, out_var, param, att):\n",
    "    if (state_var['q22'] >= param['AC22'] and state_var['SB22'] == False):\n",
    "        state_var['SB22'] = True\n",
    "        state_var['q22'] -= param['AC22']\n",
    "        schedule_event(get_depart_att_22_event(clock, param))\n",
    "\n",
    "def start_att_23_event_handler (clock, state_var, out_var, param, att):\n",
    "    if (state_var['q23'] >= param['AC23'] and state_var['SB23'] == False):\n",
    "        state_var['SB23'] = True\n",
    "        state_var['q23'] -= param['AC23']\n",
    "        schedule_event(get_depart_att_23_event(clock, param))\n",
    "        \n",
    "### LAND 3 ARRIVAL EVENT HANDLERS ###            \n",
    "def land_3_arr_event_handler (clock, state_var, out_var, param, att):\n",
    "    cust_id = (state_var['ID_list_L3'].pop(0))[1]  #insort\n",
    "    out_var['arrs_L3'].append([clock, cust_id, state_var['custs_in_L1']])\n",
    "    state_var['custs_in_L3'] += 1              #DEPENDANT ON ABOVE!\n",
    "    schedule_event(get_att_3x_choice(clock, param, cust_id))\n",
    "        \n",
    "def att_3x_choice_event_handler (clock, state_var, out_var, param, att):\n",
    "    cust_id = (state_var['ID_list_AC3'].pop(0))[1]\n",
    "    att_options = [] #Initialize attraction options, ie. attractions customer can visit\n",
    "    choice_list = [] #Initialize choice list, this list contains only the attraction numbers that are permitted to be entered\n",
    "    for att_index in range(0, AN):\n",
    "        att_options.append(not(attr[cust_id][2][att_index])) #append the negation of attraction, as in, if customer visited attraction already, it is not availabe as an option\n",
    "    for i in range(len(att_options)):\n",
    "        if att_options[i]: #If land is availabe, ie. true\n",
    "            choice_list.append(i+1) #append land number in choice list from land options list\n",
    "    if len(choice_list) == 0:\n",
    "        out_var['deps_L3'].append([clock, cust_id])\n",
    "        state_var['custs_in_L3'] -= 1\n",
    "        schedule_event(get_land_choice(clock, param, cust_id)) #get_land_choice is equivalent to exit land \n",
    "    else:\n",
    "        final_choice = random.choice(choice_list) #NN_AC_Least_Wait (clock, param, state_var, choice_list, 3)\n",
    "        if final_choice == 1:\n",
    "            out_var['arrs_A31'].append([clock, cust_id, state_var['q31']])\n",
    "            state_var['q31'] +=1\n",
    "            state_var['ID_list_A31'].append(cust_id)\n",
    "            schedule_event(get_start_att_31_event(clock, param, cust_id))\n",
    "        if final_choice == 2:\n",
    "            out_var['arrs_A32'].append([clock, cust_id, state_var['q32']])\n",
    "            state_var['q32'] +=1\n",
    "            state_var['ID_list_A32'].append(cust_id)\n",
    "            schedule_event(get_start_att_32_event(clock, param, cust_id))\n",
    "        if final_choice == 3:\n",
    "            out_var['arrs_A33'].append([clock, cust_id, state_var['q33']])\n",
    "            state_var['q33'] +=1\n",
    "            state_var['ID_list_A33'].append(cust_id)\n",
    "            schedule_event(get_start_att_33_event(clock, param, cust_id))\n",
    "\n",
    "def start_att_31_event_handler (clock, state_var, out_var, param, att):\n",
    "    if (state_var['q31'] >= param['AC31'] and state_var['SB31'] == False):\n",
    "        state_var['SB31'] = True\n",
    "        state_var['q31'] -= param['AC31']\n",
    "        schedule_event(get_depart_att_31_event(clock, param))\n",
    "        \n",
    "def start_att_32_event_handler (clock, state_var, out_var, param, att):\n",
    "    if (state_var['q32'] >= param['AC32'] and state_var['SB32'] == False):\n",
    "        state_var['SB32'] = True\n",
    "        state_var['q32'] -= param['AC32']\n",
    "        schedule_event(get_depart_att_32_event(clock, param))\n",
    "\n",
    "def start_att_33_event_handler (clock, state_var, out_var, param, att):\n",
    "    if (state_var['q33'] >= param['AC33'] and state_var['SB33'] == False):\n",
    "        state_var['SB33'] = True\n",
    "        state_var['q33'] -= param['AC33']\n",
    "        schedule_event(get_depart_att_33_event(clock, param))\n",
    "    \n",
    "\n",
    "# DEPARTURES ___________________\n",
    "def departure_event_handler_security_check (clock, state_var, out_var, param, att):\n",
    "    state_var['SBsec'] = False # Make the ride free\n",
    "    #CHECK OUTVARS FOR ARRIVALS, AND DEPS\n",
    "    out_var['sec_dep'].append(clock)\n",
    "    if state_var['qsec'] >= 1:\n",
    "        schedule_event(get_start_security_check_event(clock, param))\n",
    "    ### ASSIGN AN ATTRIBUTE LIST FOR CUSTOMERS LEAVING THE SECURITY GATE, AND ADD CHOICE FUNCTION TO CHOOSE WHICH LAND CUSTOMER IS GOING TO NEXT ###\n",
    "    ### ID ASSIGNMENT OF CUSTOMERS IS DONE AFTER SECURITY GATE\n",
    "    # Above comments can be neglected for the time being #\n",
    "    attr.append(copy.deepcopy(cust_att))\n",
    "    evList_ID.append(['Create instance'])\n",
    "    schedule_event(get_land_choice(clock, param, len(attr)-1)) # \"len(attr)-1\" IS THE ID NUMBER OF CUSTOMER\n",
    "\n",
    "### LAND 1 DEPARTURE EVENT HANDLERS ###\n",
    "def depart_att_11_event_handler (clock, state_var, out_var, param, att):\n",
    "    state_var['SB11'] = False # Make the ride free\n",
    "    for i in range (0, param['AC11']):\n",
    "        cust_id = state_var['ID_list_A11'].pop(0)\n",
    "        attr[cust_id][0][0]=True\n",
    "        out_var['deps_A11'].append([clock, cust_id])\n",
    "        schedule_event(get_att_1x_choice(clock, param, cust_id))\n",
    "    if (state_var['q11'] >= param['AC11'] and state_var['SB11'] == False):\n",
    "        schedule_event(get_start_att_11_event(clock, param, cust_id))\n",
    "        \n",
    "def depart_att_12_event_handler (clock, state_var, out_var, param, att):\n",
    "    state_var['SB12'] = False # Make the ride free\n",
    "    for i in range (0, param['AC12']):\n",
    "        cust_id = state_var['ID_list_A12'].pop(0)\n",
    "        attr[cust_id][0][1]=True\n",
    "        out_var['deps_A12'].append([clock, cust_id])\n",
    "        schedule_event(get_att_1x_choice(clock, param, cust_id))\n",
    "    if (state_var['q12'] >= param['AC12'] and state_var['SB12'] == False):\n",
    "        schedule_event(get_start_att_12_event(clock, param, cust_id))\n",
    "        \n",
    "def depart_att_13_event_handler (clock, state_var, out_var, param, att):\n",
    "    state_var['SB13'] = False # Make the ride free\n",
    "    for i in range (0, param['AC13']):\n",
    "        cust_id = state_var['ID_list_A13'].pop(0)\n",
    "        attr[cust_id][0][2]=True\n",
    "        out_var['deps_A13'].append([clock, cust_id])\n",
    "        schedule_event(get_att_1x_choice(clock, param, cust_id))\n",
    "    if (state_var['q13'] >= param['AC13'] and state_var['SB13'] == False):\n",
    "        schedule_event(get_start_att_13_event(clock, param, cust_id))\n",
    "        \n",
    "### LAND 2 DEPARTURE EVENT HANDLERS ###\n",
    "def depart_att_21_event_handler (clock, state_var, out_var, param, att):\n",
    "    state_var['SB21'] = False # Make the ride free\n",
    "    for i in range (0, param['AC21']):\n",
    "        cust_id = state_var['ID_list_A21'].pop(0)\n",
    "        attr[cust_id][1][0]=True\n",
    "        out_var['deps_A21'].append([clock, cust_id])\n",
    "        schedule_event(get_att_2x_choice(clock, param, cust_id))\n",
    "    if (state_var['q21'] >= param['AC21'] and state_var['SB21'] == False):\n",
    "        schedule_event(get_start_att_21_event(clock, param, cust_id))\n",
    "        \n",
    "def depart_att_22_event_handler (clock, state_var, out_var, param, att):\n",
    "    state_var['SB22'] = False # Make the ride free\n",
    "    for i in range (0, param['AC22']):\n",
    "        cust_id = state_var['ID_list_A22'].pop(0)\n",
    "        attr[cust_id][1][1]=True\n",
    "        out_var['deps_A22'].append([clock, cust_id])\n",
    "        schedule_event(get_att_2x_choice(clock, param, cust_id))\n",
    "    if (state_var['q22'] >= param['AC22'] and state_var['SB22'] == False):\n",
    "        schedule_event(get_start_att_22_event(clock, param, cust_id))\n",
    "        \n",
    "def depart_att_23_event_handler (clock, state_var, out_var, param, att):\n",
    "    state_var['SB23'] = False # Make the ride free\n",
    "    for i in range (0, param['AC23']):\n",
    "        cust_id = state_var['ID_list_A23'].pop(0)\n",
    "        attr[cust_id][1][2]=True\n",
    "        out_var['deps_A23'].append([clock, cust_id])\n",
    "        schedule_event(get_att_2x_choice(clock, param, cust_id))\n",
    "    if (state_var['q23'] >= param['AC23'] and state_var['SB23'] == False):\n",
    "        schedule_event(get_start_att_23_event(clock, param, cust_id))\n",
    "        \n",
    "### LAND 3 DEPARTURE EVENT HANDLERS ###\n",
    "def depart_att_31_event_handler (clock, state_var, out_var, param, att):\n",
    "    state_var['SB31'] = False # Make the ride free\n",
    "    for i in range (0, param['AC31']):\n",
    "        cust_id = state_var['ID_list_A31'].pop(0)\n",
    "        attr[cust_id][2][0]=True\n",
    "        out_var['deps_A31'].append([clock, cust_id])\n",
    "        schedule_event(get_att_3x_choice(clock, param, cust_id))\n",
    "    if (state_var['q31'] >= param['AC31'] and state_var['SB31'] == False):\n",
    "        schedule_event(get_start_att_31_event(clock, param, cust_id))\n",
    "        \n",
    "def depart_att_32_event_handler (clock, state_var, out_var, param, att):\n",
    "    state_var['SB32'] = False # Make the ride free\n",
    "    for i in range (0, param['AC32']):\n",
    "        cust_id = state_var['ID_list_A32'].pop(0)\n",
    "        attr[cust_id][2][1]=True\n",
    "        out_var['deps_A32'].append([clock, cust_id])\n",
    "        schedule_event(get_att_3x_choice(clock, param, cust_id))\n",
    "    if (state_var['q32'] >= param['AC32'] and state_var['SB32'] == False):\n",
    "        schedule_event(get_start_att_32_event(clock, param, cust_id))\n",
    "        \n",
    "def depart_att_33_event_handler (clock, state_var, out_var, param, att):\n",
    "    state_var['SB33'] = False # Make the ride free\n",
    "    for i in range (0, param['AC33']):\n",
    "        cust_id = state_var['ID_list_A33'].pop(0)\n",
    "        attr[cust_id][2][2]=True\n",
    "        out_var['deps_A33'].append([clock, cust_id])\n",
    "        schedule_event(get_att_3x_choice(clock, param, cust_id))\n",
    "    if (state_var['q33'] >= param['AC33'] and state_var['SB33'] == False):\n",
    "        schedule_event(get_start_att_23_event(clock, param, cust_id))\n",
    "        \n",
    "def departure_event_handler_TP (clock, state_var, out_var, param, att):\n",
    "    state_var['cust_in_TP'] -= 1 "
   ]
  },
  {
   "cell_type": "code",
   "execution_count": 88,
   "id": "c696dc2a",
   "metadata": {},
   "outputs": [],
   "source": [
    "#Functions below are used for Analysis and debugging\n",
    "def vectorize_list(nl, i): #Function which takes in a nested list, and outputs a vector given the index\n",
    "    outvec = []\n",
    "    for instance in nl:\n",
    "        outvec.append(instance[i])\n",
    "    return outvec\n",
    "\n",
    "def CheckConsistency (state_var, param): # Checks if state variables are consistent, used for debugging\n",
    "    isconsistent = state_var['cust_in_TP'] - len(state_var['ID_list_L1'])- len(state_var['ID_list_L2']) - len(state_var['ID_list_L3'])\n",
    "    if isconsistent == 0:\n",
    "        return True\n",
    "    else:\n",
    "        return False\n",
    "    \n",
    "def Qs (state_var, param):\n",
    "    qs = []\n",
    "    for i in range(1, LN+1):\n",
    "        for j in range(1, AN+1):\n",
    "            xx = str(i) + str(j)\n",
    "            qk = 'q'+xx\n",
    "            ack = 'AC'+xx\n",
    "            qtemp = state_var[qk]/param[ack]\n",
    "            qs.append(round(qtemp,2))\n",
    "    return qs"
   ]
  },
  {
   "cell_type": "code",
   "execution_count": 89,
   "id": "37a99a75",
   "metadata": {},
   "outputs": [
    {
     "name": "stdout",
     "output_type": "stream",
     "text": [
      "Sim Time:  5.58 seconds\n"
     ]
    }
   ],
   "source": [
    "# Insert an event into the event list\t\t\n",
    "def schedule_event(ev):\n",
    "    global evList\n",
    "    evList.put(ev)\n",
    "\n",
    "# Main simulation function\n",
    "def sim(state_var, out_var, param):\n",
    "    clock = 0\n",
    "    # Initialize (seed) the RNG\t\n",
    "    rnd.seed()\n",
    "    # Insert initial event\n",
    "    ev = get_next_arrival_event_TP(clock, param)\n",
    "    schedule_event(ev)\n",
    "    # Start simulation\n",
    "    global evCount\n",
    "    evCount = 0\n",
    "    while (not(evList.empty())) and (clock < param['Tot_Sim_Time']):\n",
    "        ev = evList.get()\n",
    "        clock = ev[0] #Update time\n",
    "        ev[2](clock, state_var, out_var, param, attr)\n",
    "        evCount += 1\n",
    "        if len(SP) == 0:\n",
    "            Qstemp = Qs (state_var, param)\n",
    "            SP.append([len(SP), round(clock,2),ev[1], Qstemp[0], Qstemp[1], Qstemp[2], Qstemp[3], Qstemp[4], Qstemp[5], Qstemp[6], Qstemp[7], Qstemp[8]])\n",
    "        elif Qstemp != Qs (state_var, param):\n",
    "            Qstemp = Qs (state_var, param)\n",
    "            SP.append([len(SP), round(clock,2),ev[1], Qstemp[0], Qstemp[1], Qstemp[2], Qstemp[3], Qstemp[4], Qstemp[5], Qstemp[6], Qstemp[7], Qstemp[8]]) \n",
    "\n",
    "def main():\n",
    "        global out_var\n",
    "        rnd.seed() # Reseed RNG (If multiple runs, remove (mySeed))\n",
    "        start = timeit.default_timer() #Start timing simulation run\n",
    "        sim(state_var, out_var, param)\n",
    "        stop = timeit.default_timer() #End timing\n",
    "        print('Sim Time: ', round(stop - start, 2), 'seconds') \n",
    "\n",
    "if __name__ == '__main__':\n",
    "    main()"
   ]
  },
  {
   "cell_type": "code",
   "execution_count": 90,
   "id": "8c56273b",
   "metadata": {},
   "outputs": [],
   "source": [
    "for instance in out_var['TPD']:\n",
    "    i = instance[1]\n",
    "    wait_Master['TP'].append((instance[0]-out_var['TPA'][i])/60)  # Index#, ID#, time in TP, Time of departure"
   ]
  },
  {
   "cell_type": "code",
   "execution_count": 91,
   "id": "53442f02",
   "metadata": {},
   "outputs": [],
   "source": [
    "def calc_wait (arrs, deps, ST):\n",
    "    Axxw = []\n",
    "    for i in range(len(deps)):\n",
    "        idnum = deps[i][1]\n",
    "        if idnum != arrs[i][1]:\n",
    "            raise Exception(\"Non-matching ID\")\n",
    "        q = arrs[i][2]\n",
    "        wt = deps[i][0]-arrs[i][0]-ST #Remove service time to denote actual wait time, since ST is constant\n",
    "        time = arrs[i][0]/60\n",
    "        Axxw.append([i, idnum, q, wt/60, time])\n",
    "    return Axxw\n",
    "\n",
    "def calc_wait_L (arrs, deps):\n",
    "    Axxw = []\n",
    "    index = 0\n",
    "    for i in range(len(deps)):\n",
    "        idnum = deps[i][1]\n",
    "        for j in range(len(arrs)): #Nested loop, could cost computation, a better way is to sort arrs and deps\n",
    "            if arrs[j][1] ==  idnum:\n",
    "                aj = j\n",
    "                break\n",
    "\n",
    "        if deps[i][1] != arrs[aj][1]:\n",
    "            raise Exception(\"Non-matching ID\")\n",
    "        q = arrs[aj][2]\n",
    "        wt = deps[i][0]-arrs[aj][0]\n",
    "        time = arrs[aj][0]/60\n",
    "        Axxw.append([i, idnum, q, wt/60, time])\n",
    "        index += 1\n",
    "    return Axxw"
   ]
  },
  {
   "cell_type": "code",
   "execution_count": 92,
   "id": "4b1ecb7e",
   "metadata": {},
   "outputs": [
    {
     "name": "stdout",
     "output_type": "stream",
     "text": [
      "out_var['Times_in_TP'] has already been created (Index#, ID#, time in TP)\n",
      "All times  are in minutes\n",
      "out_var['wait_L1'] created. (Index#, ID#, custs in land, wait time, time of arrival)\n",
      "out_var['wait_A11'] created. (Index#, ID#, queue at entry, wait time, time of arrival)\n",
      "out_var['wait_A12'] created. (Index#, ID#, queue at entry, wait time, time of arrival)\n",
      "out_var['wait_A13'] created. (Index#, ID#, queue at entry, wait time, time of arrival)\n",
      "out_var['wait_L2'] created. (Index#, ID#, custs in land, wait time, time of arrival)\n",
      "out_var['wait_A21'] created. (Index#, ID#, queue at entry, wait time, time of arrival)\n",
      "out_var['wait_A22'] created. (Index#, ID#, queue at entry, wait time, time of arrival)\n",
      "out_var['wait_A23'] created. (Index#, ID#, queue at entry, wait time, time of arrival)\n",
      "out_var['wait_L3'] created. (Index#, ID#, custs in land, wait time, time of arrival)\n",
      "out_var['wait_A31'] created. (Index#, ID#, queue at entry, wait time, time of arrival)\n",
      "out_var['wait_A32'] created. (Index#, ID#, queue at entry, wait time, time of arrival)\n",
      "out_var['wait_A33'] created. (Index#, ID#, queue at entry, wait time, time of arrival)\n"
     ]
    }
   ],
   "source": [
    "print('out_var[\\'Times_in_TP\\'] has already been created (Index#, ID#, time in TP)')\n",
    "print('All times  are in minutes')\n",
    "#Calculate wait_times for each attractions\n",
    "for i in range(1, LN+1):\n",
    "    Lx = 'L'+str(i)\n",
    "    wait_key = 'wait_' + Lx # Wait  times for each attraction.\n",
    "    arrs_key = 'arrs_' + Lx\n",
    "    deps_key = 'deps_' + Lx\n",
    "    arrs = out_var[arrs_key]\n",
    "    deps = out_var[deps_key]\n",
    "    out_var[wait_key] = calc_wait_L(arrs, deps)\n",
    "    print('out_var[\\'' + wait_key + '\\'] created. (Index#, ID#, custs in land, wait time, time of arrival)' )\n",
    "    for j in range(1, AN+1):\n",
    "        Axx = 'A'+str(i)+str(j)\n",
    "        wait_key = 'wait_' + Axx # Wait  times for each attraction.\n",
    "        arrs_key = 'arrs_' + Axx\n",
    "        deps_key = 'deps_' + Axx\n",
    "        arrs = out_var[arrs_key]\n",
    "        deps = out_var[deps_key]\n",
    "        ST = ST_param[i-1][j-1]\n",
    "        out_var[wait_key] = calc_wait(arrs, deps, ST)\n",
    "        print('out_var[\\'' + wait_key + '\\'] created. (Index#, ID#, queue at entry, wait time, time of arrival)' )"
   ]
  },
  {
   "cell_type": "code",
   "execution_count": 93,
   "id": "cf10eff1",
   "metadata": {},
   "outputs": [],
   "source": [
    "for i in range(1, LN+1):\n",
    "    Lx = 'L'+str(i)\n",
    "    for instance in out_var['wait_'+Lx]:\n",
    "        wait_Master[Lx].append(instance[3])\n",
    "    for j in range(1, AN+1):\n",
    "        Axx = 'A'+str(i)+str(j)\n",
    "        for instance_A in out_var['wait_'+Axx]:\n",
    "            wait_Master[Axx].append(instance_A[3])"
   ]
  },
  {
   "cell_type": "code",
   "execution_count": 94,
   "id": "bb535ee2",
   "metadata": {},
   "outputs": [],
   "source": [
    "def hist_waits (Lax):\n",
    "    plt.hist(wait_Master[Lax], color = 'blue', edgecolor = 'black', bins = 30)\n",
    "    plt.title('Histogram of Wait - Delay in ' + Lax)\n",
    "    plt.xlabel('Delay (min)')\n",
    "    plt.ylabel('Number of Instances')\n",
    "    print('mean = ',stat.mean(wait_Master[Lax]))\n",
    "    print('stdev = ',stat.stdev(wait_Master[Lax]))\n",
    "    plt.show()\n",
    "    if Lax[0] == 'A':\n",
    "        xx = Lax[1]+Lax[2]\n",
    "        stkey = 'ST'+str(xx)\n",
    "        ackey = 'AC'+str(xx)\n",
    "        print('ST', '->', param[stkey], 'seconds')\n",
    "        print('AC', '->', param[ackey])\n",
    "    print('--------------------------------------')"
   ]
  },
  {
   "cell_type": "code",
   "execution_count": 95,
   "id": "73915652",
   "metadata": {},
   "outputs": [
    {
     "name": "stdout",
     "output_type": "stream",
     "text": [
      "mean =  316.25554479451654\n",
      "stdev =  58.07121176855024\n"
     ]
    },
    {
     "data": {
      "image/png": "[encoded data removed]",
      "text/plain": [
       "<Figure size 432x288 with 1 Axes>"
      ]
     },
     "metadata": {
      "needs_background": "light"
     },
     "output_type": "display_data"
    },
    {
     "name": "stdout",
     "output_type": "stream",
     "text": [
      "--------------------------------------\n",
      "mean =  73.44425988116865\n",
      "stdev =  22.52524102688225\n"
     ]
    },
    {
     "data": {
      "image/png": "[encoded data removed]",
      "text/plain": [
       "<Figure size 432x288 with 1 Axes>"
      ]
     },
     "metadata": {
      "needs_background": "light"
     },
     "output_type": "display_data"
    },
    {
     "name": "stdout",
     "output_type": "stream",
     "text": [
      "--------------------------------------\n",
      "mean =  23.533307289431114\n",
      "stdev =  9.829759319740818\n"
     ]
    },
    {
     "data": {
      "image/png": "[encoded data removed]",
      "text/plain": [
       "<Figure size 432x288 with 1 Axes>"
      ]
     },
     "metadata": {
      "needs_background": "light"
     },
     "output_type": "display_data"
    },
    {
     "name": "stdout",
     "output_type": "stream",
     "text": [
      "ST -> 660 seconds\n",
      "AC -> 220\n",
      "--------------------------------------\n",
      "mean =  5.999716433002959\n",
      "stdev =  3.078441241660058\n"
     ]
    },
    {
     "data": {
      "image/png": "[encoded data removed]",
      "text/plain": [
       "<Figure size 432x288 with 1 Axes>"
      ]
     },
     "metadata": {
      "needs_background": "light"
     },
     "output_type": "display_data"
    },
    {
     "name": "stdout",
     "output_type": "stream",
     "text": [
      "ST -> 195.0 seconds\n",
      "AC -> 46\n",
      "--------------------------------------\n",
      "mean =  4.531615499498195\n",
      "stdev =  2.107687281380217\n"
     ]
    },
    {
     "data": {
      "image/png": "[encoded data removed]",
      "text/plain": [
       "<Figure size 432x288 with 1 Axes>"
      ]
     },
     "metadata": {
      "needs_background": "light"
     },
     "output_type": "display_data"
    },
    {
     "name": "stdout",
     "output_type": "stream",
     "text": [
      "ST -> 150.0 seconds\n",
      "AC -> 30\n",
      "--------------------------------------\n",
      "mean =  122.18974873158635\n",
      "stdev =  39.23968410174204\n"
     ]
    },
    {
     "data": {
      "image/png": "[encoded data removed]",
      "text/plain": [
       "<Figure size 432x288 with 1 Axes>"
      ]
     },
     "metadata": {
      "needs_background": "light"
     },
     "output_type": "display_data"
    },
    {
     "name": "stdout",
     "output_type": "stream",
     "text": [
      "--------------------------------------\n",
      "mean =  75.91475946929896\n",
      "stdev =  36.283971279242685\n"
     ]
    },
    {
     "data": {
      "image/png": "[encoded data removed]",
      "text/plain": [
       "<Figure size 432x288 with 1 Axes>"
      ]
     },
     "metadata": {
      "needs_background": "light"
     },
     "output_type": "display_data"
    },
    {
     "name": "stdout",
     "output_type": "stream",
     "text": [
      "ST -> 1245.0 seconds\n",
      "AC -> 166\n",
      "--------------------------------------\n",
      "mean =  4.887447364260533\n",
      "stdev =  3.1533173760444377\n"
     ]
    },
    {
     "data": {
      "image/png": "[encoded data removed]",
      "text/plain": [
       "<Figure size 432x288 with 1 Axes>"
      ]
     },
     "metadata": {
      "needs_background": "light"
     },
     "output_type": "display_data"
    },
    {
     "name": "stdout",
     "output_type": "stream",
     "text": [
      "ST -> 120 seconds\n",
      "AC -> 47\n",
      "--------------------------------------\n",
      "mean =  5.025410419553396\n",
      "stdev =  2.484193505405224\n"
     ]
    },
    {
     "data": {
      "image/png": "[encoded data removed]",
      "text/plain": [
       "<Figure size 432x288 with 1 Axes>"
      ]
     },
     "metadata": {
      "needs_background": "light"
     },
     "output_type": "display_data"
    },
    {
     "name": "stdout",
     "output_type": "stream",
     "text": [
      "ST -> 165.0 seconds\n",
      "AC -> 37\n",
      "--------------------------------------\n",
      "mean =  101.23954927408352\n",
      "stdev =  35.164185072482404\n"
     ]
    },
    {
     "data": {
      "image/png": "[encoded data removed]",
      "text/plain": [
       "<Figure size 432x288 with 1 Axes>"
      ]
     },
     "metadata": {
      "needs_background": "light"
     },
     "output_type": "display_data"
    },
    {
     "name": "stdout",
     "output_type": "stream",
     "text": [
      "--------------------------------------\n",
      "mean =  11.97655875558758\n",
      "stdev =  6.7461751608958735\n"
     ]
    },
    {
     "data": {
      "image/png": "[encoded data removed]",
      "text/plain": [
       "<Figure size 432x288 with 1 Axes>"
      ]
     },
     "metadata": {
      "needs_background": "light"
     },
     "output_type": "display_data"
    },
    {
     "name": "stdout",
     "output_type": "stream",
     "text": [
      "ST -> 210.0 seconds\n",
      "AC -> 140\n",
      "--------------------------------------\n",
      "mean =  5.590662007527767\n",
      "stdev =  3.2612472270665034\n"
     ]
    },
    {
     "data": {
      "image/png": "[encoded data removed]",
      "text/plain": [
       "<Figure size 432x288 with 1 Axes>"
      ]
     },
     "metadata": {
      "needs_background": "light"
     },
     "output_type": "display_data"
    },
    {
     "name": "stdout",
     "output_type": "stream",
     "text": [
      "ST -> 150.0 seconds\n",
      "AC -> 50\n",
      "--------------------------------------\n",
      "mean =  47.37939571526104\n",
      "stdev =  31.773462737257205\n"
     ]
    },
    {
     "data": {
      "image/png": "[encoded data removed]",
      "text/plain": [
       "<Figure size 432x288 with 1 Axes>"
      ]
     },
     "metadata": {
      "needs_background": "light"
     },
     "output_type": "display_data"
    },
    {
     "name": "stdout",
     "output_type": "stream",
     "text": [
      "ST -> 285.0 seconds\n",
      "AC -> 40\n",
      "--------------------------------------\n"
     ]
    }
   ],
   "source": [
    "for key in wait_Master:\n",
    "    hist_waits(key)"
   ]
  },
  {
   "cell_type": "markdown",
   "id": "696902ec",
   "metadata": {},
   "source": [
    "# Performance Metrics\n",
    "## 1) Queue Density"
   ]
  },
  {
   "cell_type": "code",
   "execution_count": 96,
   "id": "b490a846",
   "metadata": {},
   "outputs": [],
   "source": [
    "def vectorize_list(nl, i): #Function which takes in a nested list, and outputs a vector given the index\n",
    "    outvec = []\n",
    "    for instance in nl:\n",
    "        outvec.append(instance[i])\n",
    "    return outvec"
   ]
  },
  {
   "cell_type": "code",
   "execution_count": 97,
   "id": "c2d02c61",
   "metadata": {},
   "outputs": [],
   "source": [
    "def plot_q_density_combined(SP):\n",
    "    global q_density\n",
    "    q_density = {}\n",
    "    color = ['b', 'g', 'r', 'c', 'm', 'y', 'lime', 'orange', 'k']\n",
    "    plt.title('Q Density at each ride')\n",
    "    plt.xlabel('Time (Hour)')\n",
    "    plt.ylabel('Q/AC')\n",
    "    time_list = vectorize_list(SP, 1)\n",
    "    time_list_min = [x / 3600 for x in time_list]\n",
    "    for i in range(1, LN+1):\n",
    "        for j in range(1, AN+1):\n",
    "            index = (i-1)*(LN) + j\n",
    "            Axx = 'A'+str(i)+str(j)\n",
    "            q_density[Axx] = vectorize_list(SP, 2+index)\n",
    "            plt.plot(time_list_min, q_density[Axx], color = color[index-1])\n",
    "            print(color[index-1], '->', Axx)"
   ]
  },
  {
   "cell_type": "code",
   "execution_count": 98,
   "id": "3d892261",
   "metadata": {},
   "outputs": [
    {
     "name": "stdout",
     "output_type": "stream",
     "text": [
      "b -> A11\n",
      "g -> A12\n",
      "r -> A13\n",
      "c -> A21\n",
      "m -> A22\n",
      "y -> A23\n",
      "lime -> A31\n",
      "orange -> A32\n",
      "k -> A33\n"
     ]
    },
    {
     "data": {
      "image/png": "[encoded data removed]",
      "text/plain": [
       "<Figure size 432x288 with 1 Axes>"
      ]
     },
     "metadata": {
      "needs_background": "light"
     },
     "output_type": "display_data"
    }
   ],
   "source": [
    "plot_q_density_combined(SP)"
   ]
  },
  {
   "cell_type": "markdown",
   "id": "ccecad17",
   "metadata": {},
   "source": [
    "### As apparent from the graphs above, we see that A33 has the most increase in queue density, where the queue reached approximately 25 times the attraction capacity! A21 also has a high queue density of approximately 7."
   ]
  },
  {
   "cell_type": "code",
   "execution_count": 99,
   "id": "4ccd642e",
   "metadata": {},
   "outputs": [],
   "source": [
    "def plot_q_density_perride(Axx, color = 'b'):\n",
    "    plt.title('Q Density at ' + Axx)\n",
    "    plt.xlabel('Time (Hour)')\n",
    "    plt.ylabel('Q/AC')\n",
    "    time_list = vectorize_list(SP, 1)\n",
    "    time_list_hr = [x / 3600 for x in time_list]\n",
    "    plt.plot(time_list_hr, q_density[Axx], color)\n",
    "    plt.show()"
   ]
  },
  {
   "cell_type": "code",
   "execution_count": 102,
   "id": "50515db2",
   "metadata": {},
   "outputs": [
    {
     "data": {
      "image/png": "[encoded data removed]",
      "text/plain": [
       "<Figure size 432x288 with 1 Axes>"
      ]
     },
     "metadata": {
      "needs_background": "light"
     },
     "output_type": "display_data"
    },
    {
     "data": {
      "image/png": "[encoded data removed]",
      "text/plain": [
       "<Figure size 432x288 with 1 Axes>"
      ]
     },
     "metadata": {
      "needs_background": "light"
     },
     "output_type": "display_data"
    }
   ],
   "source": [
    "plot_q_density_perride('A21', 'c')\n",
    "plot_q_density_perride('A33', 'k')"
   ]
  },
  {
   "cell_type": "code",
   "execution_count": 101,
   "id": "d168e373",
   "metadata": {},
   "outputs": [
    {
     "data": {
      "image/png": "[encoded data removed]",
      "text/plain": [
       "<Figure size 432x288 with 1 Axes>"
      ]
     },
     "metadata": {
      "needs_background": "light"
     },
     "output_type": "display_data"
    },
    {
     "data": {
      "image/png": "[encoded data removed]",
      "text/plain": [
       "<Figure size 432x288 with 1 Axes>"
      ]
     },
     "metadata": {
      "needs_background": "light"
     },
     "output_type": "display_data"
    },
    {
     "data": {
      "image/png": "[encoded data removed]",
      "text/plain": [
       "<Figure size 432x288 with 1 Axes>"
      ]
     },
     "metadata": {
      "needs_background": "light"
     },
     "output_type": "display_data"
    },
    {
     "data": {
      "image/png": "[encoded data removed]",
      "text/plain": [
       "<Figure size 432x288 with 1 Axes>"
      ]
     },
     "metadata": {
      "needs_background": "light"
     },
     "output_type": "display_data"
    },
    {
     "data": {
      "image/png": "[encoded data removed]",
      "text/plain": [
       "<Figure size 432x288 with 1 Axes>"
      ]
     },
     "metadata": {
      "needs_background": "light"
     },
     "output_type": "display_data"
    },
    {
     "data": {
      "image/png": "[encoded data removed]",
      "text/plain": [
       "<Figure size 432x288 with 1 Axes>"
      ]
     },
     "metadata": {
      "needs_background": "light"
     },
     "output_type": "display_data"
    },
    {
     "data": {
      "image/png": "[encoded data removed]",
      "text/plain": [
       "<Figure size 432x288 with 1 Axes>"
      ]
     },
     "metadata": {
      "needs_background": "light"
     },
     "output_type": "display_data"
    },
    {
     "data": {
      "image/png": "[encoded data removed]",
      "text/plain": [
       "<Figure size 432x288 with 1 Axes>"
      ]
     },
     "metadata": {
      "needs_background": "light"
     },
     "output_type": "display_data"
    },
    {
     "data": {
      "image/png": "[encoded data removed]",
      "text/plain": [
       "<Figure size 432x288 with 1 Axes>"
      ]
     },
     "metadata": {
      "needs_background": "light"
     },
     "output_type": "display_data"
    }
   ],
   "source": [
    "i=0\n",
    "for key in q_density:\n",
    "    plt.hist(q_density[key], color = color[i], edgecolor = 'black', bins = 15)\n",
    "    plt.title('Histogram of Queue Density of' + str(key))\n",
    "    plt.xlabel('Q/AC')\n",
    "    plt.ylabel('Number of Instances')\n",
    "    plt.show()\n",
    "    i = i+1"
   ]
  },
  {
   "cell_type": "markdown",
   "id": "36376779",
   "metadata": {},
   "source": [
    "### Proposal to rectify the issue: Try to equally distribute customers such that the queue density of each ride is equivalent. Technical details are to be thoroughly explained in next revision."
   ]
  },
  {
   "cell_type": "markdown",
   "id": "11ff448f",
   "metadata": {},
   "source": [
    "### Due to time constraint, the simulation abruptly ends after simulation time exceeds the input  parameter 'Tot_Sim_Time'. Impure data includes people inside the theme park, considering all of them leaving at the moment the simulation ends, which is not an accurate representation."
   ]
  },
  {
   "cell_type": "markdown",
   "id": "1f136225",
   "metadata": {},
   "source": [
    "### Next revision (if time permits) shall be to arrange a proper exit for these customers inside the park. Technical details shall be thoroughly explained."
   ]
  },
  {
   "cell_type": "markdown",
   "id": "41e92043",
   "metadata": {},
   "source": [
    "### Now, we shall try a Deep Learning algorithm instead of simple linear regression for predicting the wait time. Neural Networks are superior to Linear Regression prediction algorithm for a plethora  of reasons, but the main reason we have chosen a Deep Neural Network is the fact that a NN can improve (learn) from new data, unlike linear regression, where the data has to be supplied all at once."
   ]
  },
  {
   "cell_type": "code",
   "execution_count": null,
   "id": "8806b6b2",
   "metadata": {},
   "outputs": [],
   "source": [
    "# INCLUDE THE IDs in your time analysis for more accurate results.\n",
    "# I.E. Times_in_park is a nested list of time of customer in TP, and their respective ID number.\n",
    "# ID NUMBER INCLUDED ONLY FOR"
   ]
  },
  {
   "cell_type": "code",
   "execution_count": null,
   "id": "d6de8bb5",
   "metadata": {},
   "outputs": [],
   "source": [
    "def calc_wait (arrs, deps, ST):\n",
    "    Axxw = []\n",
    "    for i in range(len(deps)):\n",
    "        idnum = deps[i][1]\n",
    "        if idnum != arrs[i][1]:\n",
    "            raise Exception(\"Non-matching ID\")\n",
    "        q = arrs[i][2]\n",
    "        wt = deps[i][0]-arrs[i][0]-ST #Remove service time to denote actual wait time, since ST is constant\n",
    "        time = arrs[i][0]/60\n",
    "        Axxw.append([i, idnum, q, wt/60, time])\n",
    "    return Axxw"
   ]
  },
  {
   "cell_type": "code",
   "execution_count": null,
   "id": "f81b52c7",
   "metadata": {},
   "outputs": [],
   "source": [
    "print('out_var[\\'Times_in_TP\\'] has already been created (Index#, ID#, time in TP)')\n",
    "#Calculate wait_times for each attractions\n",
    "for i in range(1, LN+1):\n",
    "    for j in range(1, AN+1):\n",
    "        Axx = 'A'+str(i)+str(j)\n",
    "        wait_key = 'wait_' + Axx # Wait  times for each attraction.\n",
    "        arrs_key = 'arrs_' + Axx\n",
    "        deps_key = 'deps_' + Axx\n",
    "        arrs = out_var[arrs_key]\n",
    "        deps = out_var[deps_key]\n",
    "        ST = ST_param[i-1][j-1]\n",
    "        out_var[wait_key] = calc_wait(arrs, deps, ST)\n",
    "        print('out_var[\\'' + wait_key + '\\'] created. (Index#, ID#, queue at entry, wait time, time of arrival)' )"
   ]
  },
  {
   "cell_type": "markdown",
   "id": "c311a5a7",
   "metadata": {},
   "source": [
    "# Machine Learning Model\n",
    "## Construction:\n",
    "We  shall define our label(prediction) and features(predictors):\n",
    "\n",
    "    Our label is clearly the waiting time.\n",
    "\n",
    "As for the  features, initially they shall be as follows:\n",
    "\n",
    "    1- Queue Length at Entry ----------------------------- x1\n",
    "    2- Time of day (Current Sim Time) -------------------- x2\n",
    "    3- Arrival Rate (translated to day)------------------- x3\n",
    "    4- Service time  of Attraction ----------------------- x4\n",
    "    5- Attraction Capacity ------------------------------- x5\n",
    "    \n",
    "    \n",
    "Future features to be  implemented are:\n",
    "\n",
    "    6- Number of customers currently in the Theme park --- x6\n",
    "    7- Time til close ------------------------------------ x7"
   ]
  },
  {
   "cell_type": "markdown",
   "id": "6421164d",
   "metadata": {},
   "source": [
    "### Vectorizing our x, and y"
   ]
  },
  {
   "cell_type": "code",
   "execution_count": null,
   "id": "d5b5f2e1",
   "metadata": {},
   "outputs": [],
   "source": [
    "# Use Pandas (better for big data)\n",
    "# Getting  our labels:\n",
    "y = []\n",
    "x = []\n",
    "for i in range(1, LN+1):\n",
    "    for j in range(1, AN+1):\n",
    "        Axx = 'A'+str(i)+str(j)\n",
    "        wait_key = 'wait_' + Axx # Wait  times for each attraction.\n",
    "        wait_list = (vectorize_list(out_var[wait_key], 3)) #Raw wait times as y(label)\n",
    "        queue_list = (vectorize_list(out_var[wait_key], 2))#Raw queue lengths\n",
    "        entry_time = (vectorize_list(out_var[wait_key], 4))#Raw time of arrival at queue (IN MINUTES!)\n",
    "        ST = ST_param[i-1][j-1] #Service Time in minutes\n",
    "        AC = AC_param[i-1][j-1] #Attraction Capacity\n",
    "        AR = param['_lambda']   #Arrival Rate\n",
    "        for instance in wait_list:\n",
    "            y.append(instance)\n",
    "        for k in range(0, len(queue_list)):\n",
    "            x.append([queue_list[k], entry_time[k], AR, ST, AC])"
   ]
  },
  {
   "cell_type": "markdown",
   "id": "f201b86c",
   "metadata": {},
   "source": [
    "### Test set and training set split"
   ]
  },
  {
   "cell_type": "code",
   "execution_count": null,
   "id": "5c34378e",
   "metadata": {},
   "outputs": [],
   "source": [
    "from sklearn.model_selection import train_test_split\n",
    "X_train, X_test, y_train, y_test = train_test_split(x,y,test_size=0.3,random_state=777)"
   ]
  },
  {
   "cell_type": "code",
   "execution_count": null,
   "id": "9f843ea5",
   "metadata": {},
   "outputs": [],
   "source": [
    "from tensorflow.keras.models import Sequential\n",
    "from tensorflow.keras.layers import Dense, Activation\n",
    "\n",
    "model = Sequential()\n",
    "\n",
    "model.add(Dense(5, input_dim = 5,activation='relu'))\n",
    "model.add(Dense(15,activation='relu'))\n",
    "model.add(Dense(5,activation='relu'))\n",
    "\n",
    "# Final output node for prediction\n",
    "model.add(Dense(1))\n",
    "\n",
    "model.compile(optimizer='rmsprop',loss='mse')"
   ]
  },
  {
   "cell_type": "markdown",
   "id": "e052c872",
   "metadata": {},
   "source": [
    "### A summary of the NN is shown below"
   ]
  },
  {
   "cell_type": "code",
   "execution_count": null,
   "id": "872bda74",
   "metadata": {},
   "outputs": [],
   "source": [
    "print(model.summary())"
   ]
  },
  {
   "cell_type": "code",
   "execution_count": null,
   "id": "99391522",
   "metadata": {},
   "outputs": [],
   "source": [
    "model.fit(X_train,y_train,epochs=250)"
   ]
  },
  {
   "cell_type": "code",
   "execution_count": null,
   "id": "f1d8d42c",
   "metadata": {},
   "outputs": [],
   "source": [
    "loss = model.history.history['loss']"
   ]
  },
  {
   "cell_type": "code",
   "execution_count": null,
   "id": "5504d457",
   "metadata": {},
   "outputs": [],
   "source": [
    "import seaborn as sns\n",
    "sns.lineplot(x=range(len(loss)),y=loss)\n",
    "plt.title(\"Training Loss per Epoch\");"
   ]
  },
  {
   "cell_type": "code",
   "execution_count": null,
   "id": "6d2ae25d",
   "metadata": {},
   "outputs": [],
   "source": [
    "training_score = model.evaluate(X_train,y_train,verbose=0)\n",
    "test_score = model.evaluate(X_test,y_test,verbose=0)"
   ]
  },
  {
   "cell_type": "code",
   "execution_count": null,
   "id": "a313a574",
   "metadata": {},
   "outputs": [],
   "source": [
    "training_score"
   ]
  },
  {
   "cell_type": "code",
   "execution_count": null,
   "id": "1201fb17",
   "metadata": {},
   "outputs": [],
   "source": [
    "test_score"
   ]
  },
  {
   "cell_type": "code",
   "execution_count": null,
   "id": "6a7463a5",
   "metadata": {},
   "outputs": [],
   "source": [
    "test_predictions = model.predict(X_test)"
   ]
  },
  {
   "cell_type": "code",
   "execution_count": null,
   "id": "3550130f",
   "metadata": {},
   "outputs": [],
   "source": [
    "test_predictions"
   ]
  },
  {
   "cell_type": "code",
   "execution_count": null,
   "id": "982024bc",
   "metadata": {},
   "outputs": [],
   "source": [
    "import pandas as pd"
   ]
  },
  {
   "cell_type": "code",
   "execution_count": null,
   "id": "4dd9361e",
   "metadata": {},
   "outputs": [],
   "source": [
    "pred_df = pd.DataFrame(y_test,columns=['Test Y'])"
   ]
  },
  {
   "cell_type": "code",
   "execution_count": null,
   "id": "bde38a05",
   "metadata": {},
   "outputs": [],
   "source": [
    "pred_df"
   ]
  },
  {
   "cell_type": "code",
   "execution_count": null,
   "id": "e244697e",
   "metadata": {},
   "outputs": [],
   "source": [
    "test_predictions = pd.Series(test_predictions.reshape(len(test_predictions)))"
   ]
  },
  {
   "cell_type": "code",
   "execution_count": null,
   "id": "1107a980",
   "metadata": {},
   "outputs": [],
   "source": [
    "test_predictions"
   ]
  },
  {
   "cell_type": "code",
   "execution_count": null,
   "id": "5dddae53",
   "metadata": {},
   "outputs": [],
   "source": [
    "pred_df = pd.concat([pred_df,test_predictions],axis=1)"
   ]
  },
  {
   "cell_type": "code",
   "execution_count": null,
   "id": "37e401a3",
   "metadata": {},
   "outputs": [],
   "source": [
    "pred_df.columns = ['Test Y','Model Predictions']"
   ]
  },
  {
   "cell_type": "code",
   "execution_count": null,
   "id": "de76370a",
   "metadata": {},
   "outputs": [],
   "source": [
    "pred_df"
   ]
  },
  {
   "cell_type": "code",
   "execution_count": null,
   "id": "7ed883cf",
   "metadata": {},
   "outputs": [],
   "source": [
    "y_pred = test_predictions = model.predict(x)"
   ]
  },
  {
   "cell_type": "code",
   "execution_count": null,
   "id": "a4a07140",
   "metadata": {},
   "outputs": [],
   "source": [
    "# Splitting our prediction for each attractions:\n",
    "# tbh could  just predict each one individually, why the hassle?\n",
    "dy_true = {}\n",
    "dy_pred = {}\n",
    "x_index = {}\n",
    "start_pos = 0\n",
    "for i in range(1, LN+1):\n",
    "    for j in range(1, AN+1):\n",
    "        Axx = 'A'+str(i)+str(j)\n",
    "        dy_pred[Axx]=[]\n",
    "        wait_key = 'wait_' + Axx # Wait  times for each attraction.\n",
    "        dy_true[Axx] = (vectorize_list(out_var[wait_key], 3)) # Raw wait times as y(label)\n",
    "        vlen =len(out_var[wait_key]) # Raw wait times as y(label)\n",
    "        l = 0\n",
    "        temp_y_pred = []\n",
    "        temp_x_index = []\n",
    "        for k in range(start_pos, vlen+start_pos):\n",
    "            temp_y_pred.append(y_pred[k])\n",
    "            temp_x_index.append(l)\n",
    "            l += 1\n",
    "        dy_pred[Axx] = temp_y_pred\n",
    "        x_index[Axx] = temp_x_index\n",
    "        start_pos += vlen"
   ]
  },
  {
   "cell_type": "code",
   "execution_count": null,
   "id": "f197511b",
   "metadata": {},
   "outputs": [],
   "source": [
    "def plot_true_vs_pred_perride(Axx):\n",
    "    plt.title('Wait times for '+ Axx)\n",
    "    plt.xlabel('Index')\n",
    "    plt.ylabel('Wait times (min)')\n",
    "    plt.plot(x_index[Axx], dy_true[Axx], color = 'b')\n",
    "    plt.plot(x_index[Axx], dy_pred[Axx], color = 'r')\n",
    "    plt.show()\n",
    "    print('Red', '->', 'Prediction, perride')\n",
    "    print('Blue', '->', 'Actual')"
   ]
  },
  {
   "cell_type": "code",
   "execution_count": null,
   "id": "5b330ab6",
   "metadata": {},
   "outputs": [],
   "source": [
    "def plot_true_vs_pred_overall(Axx):\n",
    "    plt.title('Wait times for '+ Axx)\n",
    "    plt.xlabel('Index')\n",
    "    plt.ylabel('Wait times (min)')\n",
    "    print(Axx)\n",
    "    plt.plot(x_index[Axx], dy_true[Axx], color = 'b')\n",
    "    plt.plot(x_index[Axx], dy_pred_overall[Axx], color = 'r')\n",
    "    plt.show()\n",
    "    print('Red', '->', 'Prediction, overall')\n",
    "    print('Blue', '->', 'Actual')"
   ]
  },
  {
   "cell_type": "code",
   "execution_count": null,
   "id": "c5ced7a4",
   "metadata": {
    "scrolled": false
   },
   "outputs": [],
   "source": [
    "for key in x_index:\n",
    "    Axx = key\n",
    "    plot_true_vs_pred_perride(Axx)"
   ]
  },
  {
   "cell_type": "code",
   "execution_count": null,
   "id": "23f898f3",
   "metadata": {},
   "outputs": [],
   "source": [
    "from tensorflow.keras.models import load_model\n",
    "model.save('NN01_d.h5')"
   ]
  },
  {
   "cell_type": "code",
   "execution_count": null,
   "id": "e4fa7619",
   "metadata": {},
   "outputs": [],
   "source": [
    "for key in out_var:\n",
    "    print(key)"
   ]
  },
  {
   "cell_type": "code",
   "execution_count": null,
   "id": "c757c393",
   "metadata": {},
   "outputs": [],
   "source": []
  }
 ],
 "metadata": {
  "kernelspec": {
   "display_name": "Python 3 (ipykernel)",
   "language": "python",
   "name": "python3"
  },
  "language_info": {
   "codemirror_mode": {
    "name": "ipython",
    "version": 3
   },
   "file_extension": ".py",
   "mimetype": "text/x-python",
   "name": "python",
   "nbconvert_exporter": "python",
   "pygments_lexer": "ipython3",
   "version": "3.7.10"
  },
  "varInspector": {
   "cols": {
    "lenName": 16,
    "lenType": 16,
    "lenVar": 40
   },
   "kernels_config": {
    "python": {
     "delete_cmd_postfix": "",
     "delete_cmd_prefix": "del ",
     "library": "var_list.py",
     "varRefreshCmd": "print(var_dic_list())"
    },
    "r": {
     "delete_cmd_postfix": ") ",
     "delete_cmd_prefix": "rm(",
     "library": "var_list.r",
     "varRefreshCmd": "cat(var_dic_list()) "
    }
   },
   "position": {
    "height": "366.4px",
    "left": "1128.2px",
    "right": "20px",
    "top": "120px",
    "width": "371px"
   },
   "types_to_exclude": [
    "module",
    "function",
    "builtin_function_or_method",
    "instance",
    "_Feature"
   ],
   "window_display": false
  }
 },
 "nbformat": 4,
 "nbformat_minor": 5
}
