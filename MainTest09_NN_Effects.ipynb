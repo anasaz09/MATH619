{
 "cells": [
  {
   "cell_type": "code",
   "execution_count": 1,
   "id": "25640d86",
   "metadata": {},
   "outputs": [],
   "source": [
    "import random as rnd\n",
    "import queue\n",
    "import statistics as stat\n",
    "from tabulate import tabulate\n",
    "import matplotlib.pyplot as plt\n",
    "import numpy as np\n",
    "from math import sqrt\n",
    "import random\n",
    "import copy\n",
    "import timeit\n",
    "import csv\n",
    "from bisect import insort\n",
    "import os\n",
    "import statistics as stat"
   ]
  },
  {
   "cell_type": "code",
   "execution_count": 2,
   "id": "f89a3821",
   "metadata": {},
   "outputs": [],
   "source": [
    "wait_Master = {'TP' : []}\n",
    "\n",
    "for i in range(1, 4):\n",
    "    global out\n",
    "    myKeywMs = 'L' + str(i) #Lands Waits Master List\n",
    "    wait_Master[myKeywMs] = []\n",
    "    for j in range(1, 4): \n",
    "        myKey8 = 'A' + str(i) + str(j) #Attraction Waits Master List\n",
    "        wait_Master[myKey8] = []"
   ]
  },
  {
   "cell_type": "code",
   "execution_count": 22,
   "id": "f8da1577",
   "metadata": {},
   "outputs": [],
   "source": [
    "# This program will simulate customers going through a Theme Park, with attractions for each land to be visited in a random manner.\n",
    "# Future implementation is to implement ML techniques in choosing lands and attractions.\n",
    "\n",
    "### PARAMETERS ###\n",
    "param = {'_lambda':0.2, #Inter Arrival Time (IAT) in seconds (expovar)\n",
    "         '_STsec': 0.25, #Security Check service time in seconds (expovar), twice the iat (for now, why?)\n",
    "         '_TBA': 1/(10*60), #Time Between  Attractions (expovar), consider this as walking time\n",
    "         '_TBL': 1/(15*60), #Time Between  lands (expovar), consider this as walking time\n",
    "         'Tot_Sim_Time': 10*60*60, #Total time of simulation (in seconds)\n",
    "         'TTC_TH': 1*60*60 #Time Til Close Threshold (in seconds)\n",
    "        }\n",
    "\n",
    "### STATE VARS ###\n",
    "state_var = {'cust_in_TP': 0,\n",
    "             'SBsec': False,\n",
    "             'qsec': 0,\n",
    "             'ID_list_LC':[]\n",
    "            } #Number of customers currently in the theme park\n",
    "\n",
    "### OUTVARS ###\n",
    "out_var = {'Count_Arrival_Ev': 0,\n",
    "           'TPA': [],\n",
    "           'TPD': [],\n",
    "           'sec_arr':[],\n",
    "           'sec_dep': [],\n",
    "           'First_land_choice':[]\n",
    "          }\n",
    "\n",
    "### ATTRIBUTES ###\n",
    "cust_att= [] #Nested list denoting if customer has visited rides - ELABORATE?\n",
    "attr = [] #All customer attributes shall be contained in this list, where their index is the ID\n",
    "evList_ID = [] #All customer  events shall be contained here for reference\n",
    "\n",
    "### SYSTEMIZING THE DEFINITION OF PARAMS, STATE_VARS, OUT_VARS AND CUST_ATT ###\n",
    "\n",
    "LN = 3 #Number of lands in the Theme Park\n",
    "AN = 3 #Number of attractions in each land\n",
    "\n",
    "AC_param = [[220, 46, 30], [166, 47, 37], [140, 50, 40]]\n",
    "ST_param = [[11, 3.25, 2.5], [20.75, 2, 2.75], [3.5, 2.5, 4.75]]\n",
    "\n",
    "for i in range(1, LN+1):\n",
    "    cust_att.append([False]*AN) #Create an attribute list template for customers arriving\n",
    "    myKeyLandsArr = 'arrs_L' + str(i) #Record Arrival times in each land\n",
    "    out_var[myKeyLandsArr] = []\n",
    "    myKeyLandsDep = 'deps_L' + str(i) #Record Departure times in each land\n",
    "    out_var[myKeyLandsDep] = []\n",
    "    myKeyIDLs = 'ID_list_L' + str(i) #Record ID numbers of people in Land # (TEMPORARY, DO NOT USE FOR ANALYSIS, USE ARRS AND DEPS)\n",
    "    state_var[myKeyIDLs] = []\n",
    "    myKeyIDLs = 'custs_in_L' + str(i) #Record number of people in Land #\n",
    "    state_var[myKeyIDLs] = 0\n",
    "    myKeyIDACs = 'ID_list_AC' + str(i) #Record ID numbers of customers to be transferred to attraction choice func.\n",
    "    state_var[myKeyIDACs] = []\n",
    "    for j in range(1, AN+1):\n",
    "        myKey1 = 'ST' + str(i) + str(j) #Service time for each attraction, arbitrary random times for now.\n",
    "        param[myKey1] = ST_param[i-1][j-1]*60\n",
    "        myKey2 = 'AC' + str(i) + str(j) #Attraction customer capacity,  arbitrary random numbers for now.\n",
    "        param[myKey2] = AC_param[i-1][j-1]\n",
    "        myKey3 = 'SB' + str(i) + str(j) #Server Busy state\n",
    "        state_var[myKey3] = False\n",
    "        myKey4 = 'q' + str(i) + str(j) #Queue length\n",
    "        state_var[myKey4] = 0\n",
    "        myKey7 = 'ID_list_A' + str(i) + str(j) #Queue length\n",
    "        state_var[myKey7] = []\n",
    "        myKey5 = 'arrs_A' + str(i) + str(j) #Arrival times for each attraction\n",
    "        out_var[myKey5] = []\n",
    "        myKey6 = 'deps_A' + str(i) + str(j) #Departure times for each attraction\n",
    "        out_var[myKey6] = []      \n",
    "\n",
    "### SAMPLE PATH (SP) ###\n",
    "global SP1 #Queue Sample Path\n",
    "global SP2 #Consistency, Atts\n",
    "global SP3 #Consistency, Lands\n",
    "SP1 = []\n",
    "SP2 = []\n",
    "SP3 = []"
   ]
  },
  {
   "cell_type": "code",
   "execution_count": 23,
   "id": "663baf79",
   "metadata": {},
   "outputs": [],
   "source": [
    "# Define the global event list\n",
    "evList = queue.PriorityQueue() #Try PriorityQueue? (no prioriy)\n",
    "\n",
    "### Define the Event Generators ###\n",
    "\n",
    "### ARRIVAL EVENT GENERATORS ###\n",
    "def get_next_arrival_event_TP (clock, param):\n",
    "    out_var['Count_Arrival_Ev'] += 1\n",
    "    iat = rnd.expovariate(param['_lambda'])\n",
    "    ev = (clock+iat, \"Arrival to Theme Park\", arrival_event_handler_TP)\n",
    "    return ev    \n",
    "    \n",
    "def get_start_security_check_event (clock, param):\n",
    "    ev = (clock, \"Security Check 1 Start\", security_check_event_handler)\n",
    "    return ev\n",
    "\n",
    "def get_land_choice (clock, param, cust_id): #For any customer id as an argument, add this customer Id to its corresponding event hanlder list as follows:\n",
    "    state_var['ID_list_LC'].append(cust_id)\n",
    "    # No expovar time, Expovar time only occurs after choice  is made.\n",
    "    ev = (clock, \"Land Choice for Customer#(\" + str(cust_id)+\")\", land_choice_event_handler)\n",
    "    evList_ID[cust_id].append(ev[1])\n",
    "    return ev\n",
    "\n",
    "### Land 1 ###\n",
    "def get_enter_land_1_event(clock, param, cust_id):\n",
    "    # EXPOVARIATE RANDOM TIME (AVERAGE OF '_TBL' MINUTES WALK)\n",
    "    st = rnd.expovariate(param['_TBL'])\n",
    "    insort(state_var['ID_list_L1'], [(clock+st), cust_id])\n",
    "    ev = (clock+st, \"Customer Enters Land 1, #(\" + str(cust_id)+\")\", land_1_arr_event_handler)\n",
    "    evList_ID[cust_id].append(ev[1])\n",
    "    return ev\n",
    "\n",
    "def get_att_1x_choice (clock, param, cust_id): #AC1 - Attraction Choice for land 1\n",
    "    # EXPOVARIATE RANDOM TIME (AVERAGE OF '_TBA' MINUTES WALK)\n",
    "    st = rnd.expovariate(param['_TBA'])\n",
    "    insort(state_var['ID_list_AC1'], [(clock+st), cust_id])\n",
    "    ev = (clock+st, \"Attraction 1x Choice for Customer#(\" + str(cust_id)+\")\", att_1x_choice_event_handler)\n",
    "    evList_ID[cust_id].append(ev[1])\n",
    "    return ev\n",
    "\n",
    "def get_start_att_11_event(clock, param, cust_id):\n",
    "    ev = (clock, \"Customer Enters Attraction 11, #(\" + str(cust_id)+\")\", start_att_11_event_handler)\n",
    "    evList_ID[cust_id].append(ev[1])\n",
    "    return(ev)\n",
    "\n",
    "def get_start_att_12_event(clock, param, cust_id):\n",
    "    ev = (clock, \"Customer Enters Attraction 12, #(\" + str(cust_id)+\")\", start_att_12_event_handler)\n",
    "    evList_ID[cust_id].append(ev[1])\n",
    "    return(ev)\n",
    "\n",
    "def get_start_att_13_event(clock, param, cust_id):\n",
    "    ev = (clock, \"Customer Enters Attraction 13, #(\" + str(cust_id)+\")\", start_att_13_event_handler)\n",
    "    evList_ID[cust_id].append(ev[1])\n",
    "    return(ev)\n",
    "\n",
    "### Land 2 ###\n",
    "def get_enter_land_2_event(clock, param, cust_id):\n",
    "    # EXPOVARIATE RANDOM TIME (AVERAGE OF '_TBL' MINUTES WALK)\n",
    "    st = rnd.expovariate(param['_TBL'])\n",
    "    insort(state_var['ID_list_L2'], [(clock+st), cust_id])\n",
    "    ev = (clock+st, \"Customer Enters Land 2, #(\" + str(cust_id)+\")\", land_2_arr_event_handler)\n",
    "    evList_ID[cust_id].append(ev[1])\n",
    "    return ev\n",
    "\n",
    "def get_att_2x_choice (clock, param, cust_id): #AC2 - Attraction Choice for land 2\n",
    "    # EXPOVARIATE RANDOM TIME (AVERAGE OF '_TBA' MINUTES WALK)\n",
    "    st = rnd.expovariate(param['_TBA'])\n",
    "    insort(state_var['ID_list_AC2'], [(clock+st), cust_id])\n",
    "    ev = (clock+st, \"Attraction 2x Choice for Customer#(\" + str(cust_id)+\")\", att_2x_choice_event_handler)\n",
    "    evList_ID[cust_id].append(ev[1])\n",
    "    return ev\n",
    "\n",
    "def get_start_att_21_event(clock, param, cust_id):\n",
    "    ev = (clock, \"Customer Enters Attraction 21, #(\" + str(cust_id)+\")\", start_att_21_event_handler)\n",
    "    evList_ID[cust_id].append(ev[1])\n",
    "    return(ev)\n",
    "\n",
    "def get_start_att_22_event(clock, param, cust_id):\n",
    "    ev = (clock, \"Customer Enters Attraction 22, #(\" + str(cust_id)+\")\", start_att_22_event_handler)\n",
    "    evList_ID[cust_id].append(ev[1])\n",
    "    return(ev)\n",
    "\n",
    "def get_start_att_23_event(clock, param, cust_id):\n",
    "    ev = (clock, \"Customer Enters Attraction 23, #(\" + str(cust_id)+\")\", start_att_23_event_handler)\n",
    "    evList_ID[cust_id].append(ev[1])\n",
    "    return(ev)\n",
    "\n",
    "### Land 3 ###\n",
    "def get_enter_land_3_event(clock, param, cust_id):\n",
    "    # EXPOVARIATE RANDOM TIME (AVERAGE OF '_TBL' MINUTES WALK)\n",
    "    st = rnd.expovariate(param['_TBL'])\n",
    "    insort(state_var['ID_list_L3'], [(clock+st), cust_id])\n",
    "    ev = (clock+st, \"Customer Enters Land 3, #(\" + str(cust_id)+\")\", land_3_arr_event_handler)\n",
    "    evList_ID[cust_id].append(ev[1])\n",
    "    return ev\n",
    "\n",
    "def get_att_3x_choice (clock, param, cust_id): #AC3 - Attraction Choice for land 3\n",
    "    # EXPOVARIATE RANDOM TIME (AVERAGE OF '_TBA' MINUTES WALK)\n",
    "    st = rnd.expovariate(param['_TBA'])\n",
    "    insort(state_var['ID_list_AC3'], [(clock+st), cust_id])\n",
    "    ev = (clock+st, \"Attraction 3x Choice for Customer#(\" + str(cust_id)+\")\", att_3x_choice_event_handler)\n",
    "    evList_ID[cust_id].append(ev[1])\n",
    "    return ev\n",
    "\n",
    "def get_start_att_31_event(clock, param, cust_id):\n",
    "    ev = (clock, \"Customer Enters Attraction 31, #(\" + str(cust_id)+\")\", start_att_31_event_handler)\n",
    "    evList_ID[cust_id].append(ev[1])\n",
    "    return(ev)\n",
    "\n",
    "def get_start_att_32_event(clock, param, cust_id):\n",
    "    ev = (clock, \"Customer Enters Attraction 32, #(\" + str(cust_id)+\")\", start_att_32_event_handler)\n",
    "    evList_ID[cust_id].append(ev[1])\n",
    "    return(ev)\n",
    "\n",
    "def get_start_att_33_event(clock, param, cust_id):\n",
    "    ev = (clock, \"Customer Enters Attraction 33, #(\" + str(cust_id)+\")\", start_att_33_event_handler)\n",
    "    evList_ID[cust_id].append(ev[1])\n",
    "    return(ev)\n",
    "\n",
    "\n",
    "### DEPRTURE EVENT GENERATORS ###\n",
    "def get_next_departure_event_security_check (clock, param):\n",
    "    st = rnd.expovariate(param['_STsec'])\n",
    "    ev = (clock+st, \"Security Check 1 End\", departure_event_handler_security_check)\n",
    "    return ev\n",
    "\n",
    "### Land 1 ###\n",
    "def get_exit_land_1_event(clock, param, cust_id):\n",
    "    ev = (clock, \"Customer Exits Land 1, #(\" + str(cust_id)+\")\", land_1_arr_event_handler)\n",
    "    evList_ID[cust_id].append(ev[1])\n",
    "    return ev\n",
    "\n",
    "def get_depart_att_11_event(clock, param):\n",
    "    st = param['ST11']\n",
    "    ev = (clock+st, \"Customers Leaving Attraction 11\", depart_att_11_event_handler)\n",
    "    return(ev)\n",
    "\n",
    "def get_depart_att_12_event(clock, param):\n",
    "    st = param['ST12']\n",
    "    ev = (clock+st, \"Customers Leaving Attraction 12\", depart_att_12_event_handler)\n",
    "    return(ev)\n",
    "\n",
    "def get_depart_att_13_event(clock, param):\n",
    "    st = param['ST13']\n",
    "    ev = (clock+st, \"Customers Leaving Attraction 13\", depart_att_13_event_handler)\n",
    "    return(ev)\n",
    "\n",
    "### Land 2 ###\n",
    "def get_exit_land_2_event(clock, param, cust_id):\n",
    "    ev = (clock, \"Customer Exits Land 2, #(\" + str(cust_id)+\")\", land_2_arr_event_handler)\n",
    "    evList_ID[cust_id].append(ev[1])\n",
    "    return ev\n",
    "\n",
    "def get_depart_att_21_event(clock, param):\n",
    "    st = param['ST21']\n",
    "    ev = (clock+st, \"Customers Leaving Attraction 21\", depart_att_21_event_handler)\n",
    "    return(ev)\n",
    "\n",
    "def get_depart_att_22_event(clock, param):\n",
    "    st = param['ST22']\n",
    "    ev = (clock+st, \"Customers Leaving Attraction 22\", depart_att_22_event_handler)\n",
    "    return(ev)\n",
    "\n",
    "def get_depart_att_23_event(clock, param):\n",
    "    st = param['ST23']\n",
    "    ev = (clock+st, \"Customers Leaving Attraction 23\", depart_att_23_event_handler)\n",
    "    return(ev)\n",
    "\n",
    "### Land 3 ###\n",
    "def get_exit_land_3_event(clock, param, cust_id):\n",
    "    ev = (clock, \"Customer Exits Land 3, #(\" + str(cust_id)+\")\", land_3_arr_event_handler)\n",
    "    evList_ID[cust_id].append(ev[1])\n",
    "    return ev\n",
    "\n",
    "def get_depart_att_31_event(clock, param):\n",
    "    st = param['ST31']\n",
    "    ev = (clock+st, \"Customers Leaving Attraction 31\", depart_att_31_event_handler)\n",
    "    return(ev)\n",
    "\n",
    "def get_depart_att_32_event(clock, param):\n",
    "    st = param['ST32']\n",
    "    ev = (clock+st, \"Customers Leaving Attraction 32\", depart_att_32_event_handler)\n",
    "    return(ev)\n",
    "\n",
    "def get_depart_att_33_event(clock, param):\n",
    "    st = param['ST33']\n",
    "    ev = (clock+st, \"Customers Leaving Attraction 33\", depart_att_33_event_handler)\n",
    "    return(ev)\n",
    "\n",
    "### Theme Park Departure ###\n",
    "def get_next_departure_event_TP (clock, param, cust_id):\n",
    "    out_var['TPD'].append([clock, cust_id])\n",
    "    ev = (clock, \"Departure from Theme Park, #(\" + str(cust_id)+\")\", departure_event_handler_TP)\n",
    "    evList_ID[cust_id].append(ev[1])\n",
    "    return ev"
   ]
  },
  {
   "cell_type": "code",
   "execution_count": 24,
   "id": "3f1bf120",
   "metadata": {},
   "outputs": [],
   "source": [
    "from tensorflow.keras.models import load_model\n",
    "LTP = load_model('LTP01.h5') #Land Time Prediction NN model\n",
    "AWT = load_model('AWT01.h5') #Attraction  Wait Time  NN model"
   ]
  },
  {
   "cell_type": "code",
   "execution_count": 25,
   "id": "b53748c3",
   "metadata": {},
   "outputs": [],
   "source": [
    "# Define LAnd Choice and Attraction Choice using NN\n",
    "\n",
    "def NN_LC_Least_Wait (clock, param, state_var, choice_list): # Choose the least wait time over all attractions, pick land of chosen attraction\n",
    "    if len(choice_list) == 1:\n",
    "        return choice_list[0]\n",
    "    else:\n",
    "        templist = []\n",
    "        for i in choice_list:\n",
    "            ohe = [0, 0, 0]\n",
    "            ohe[i-1] = 1\n",
    "            qkey = 'custs_in_L' + str(i)\n",
    "            AR = param['_lambda']\n",
    "            q = state_var[qkey]\n",
    "            x = [[q, clock/60, AR, ohe[0], ohe[1], ohe[2]]]\n",
    "            y = LTP(np.array(x))\n",
    "            templist.append([y, i])\n",
    "        tempc = min(templist)\n",
    "        choice = tempc[1]\n",
    "        return(choice)\n",
    "    \n",
    "def NN_AC_Least_Wait (clock, param, state_var, choice_list, i): # Choose the least wait time over all attractions, pick land of chosen attraction\n",
    "    if len(choice_list) == 1:\n",
    "        return choice_list[0]\n",
    "    else:\n",
    "        templist = []\n",
    "        for j in choice_list:\n",
    "            qkey = 'q' + str(i) + str(j)\n",
    "            STkey = 'ST'+ str(i) + str(j)\n",
    "            ACkey = 'AC'+ str(i) + str(j)\n",
    "            AR = param['_lambda']\n",
    "            AC = param[ACkey]\n",
    "            ST = param[STkey]\n",
    "            q = state_var[qkey]\n",
    "            x = [[q, clock/60, AR, ST, AC]]\n",
    "            y = AWT(np.array(x))\n",
    "            templist.append([y, j])\n",
    "        tempc = min(templist)\n",
    "        choice = tempc[1]\n",
    "        \n",
    "        return(choice)"
   ]
  },
  {
   "cell_type": "code",
   "execution_count": 26,
   "id": "4dd7ec95",
   "metadata": {},
   "outputs": [],
   "source": [
    "# Define Event handlers\n",
    "\n",
    "# ARRIVALS ___________________\n",
    "def arrival_event_handler_TP (clock, state_var, out_var, param, att): # Commented lines are for future use\n",
    "    if (True):   # Check if time til close is greater than threshold\n",
    "        state_var['cust_in_TP'] += 1                # Increase number of customers in theme park\n",
    "        out_var['TPA'].append(clock)                # Record arrival time to Theme park        \n",
    "        state_var['qsec'] += 1                # Essentially, make customer enter queue 1\n",
    "        if (state_var['SBsec'] == False) and (state_var['qsec'] >= 1): #If conditions are satisfied, start security check\n",
    "            schedule_event(get_start_security_check_event(clock, param))        \n",
    "    if (param['Tot_Sim_Time']-clock) > param['TTC_TH']: #Check if time til close is greater than threshold\n",
    "        schedule_event(get_next_arrival_event_TP(clock, param)) #Generate New Arrival to keep program running\n",
    "\n",
    "def security_check_event_handler (clock, state_var, out_var, param, att):\n",
    "    state_var['SBsec'] = True #Make the security guard busy\n",
    "    state_var['qsec'] -= 1    #Remove person doing the security check from queue\n",
    "    out_var['sec_arr'].append(clock)\n",
    "    schedule_event(get_next_departure_event_security_check(clock, param))\n",
    "    \n",
    "def land_choice_event_handler (clock, state_var, out_var, param, att):\n",
    "    cust_id = state_var['ID_list_LC'].pop(0)\n",
    "    land_options = [] #Initialize land options, ie. lands customer can visit\n",
    "    for land_index in range(0, LN):\n",
    "        first_element = attr[cust_id][land_index][0] #Grab first attraction state\n",
    "        for state in attr[cust_id][land_index]:\n",
    "            if (first_element != state):\n",
    "                raise Exception(\"Customer (\" + str(cust_id) + \") has not visited all rides\") #Remove in next revision\n",
    "        land_options.append(not(first_element)) #append the negation of of ride, as in, if customer visited attractions in land 1, it is not availabe as an option\n",
    "    choice_list = [] #Initialize choice list, this list contains only the land numbers that are permitted to be entered\n",
    "    for i in range(len(land_options)):\n",
    "        if land_options[i]: #If land is availabe, ie. true\n",
    "            choice_list.append(i+1) #append land number in choice list from land options list\n",
    "    if (len(choice_list) == 0) :\n",
    "        schedule_event(get_next_departure_event_TP(clock, param, cust_id))\n",
    "    else:\n",
    "        final_choice = NN_LC_Least_Wait (clock, param, state_var, choice_list) # Use NN to choose least wait\n",
    "        if final_choice == 1:\n",
    "            schedule_event(get_enter_land_1_event(clock, param, cust_id))\n",
    "        if final_choice == 2:\n",
    "            schedule_event(get_enter_land_2_event(clock, param, cust_id))\n",
    "        if final_choice == 3:\n",
    "            schedule_event(get_enter_land_3_event(clock, param, cust_id))\n",
    "        \n",
    "\n",
    "### LAND 1 ARRIVAL EVENT HANDLERS ###            \n",
    "def land_1_arr_event_handler (clock, state_var, out_var, param, att):\n",
    "    cust_id = (state_var['ID_list_L1'].pop(0))[1]  #Best I could do, hope 'insort' does the job correctly\n",
    "    out_var['arrs_L1'].append([clock, cust_id, state_var['custs_in_L1']])\n",
    "    state_var['custs_in_L1'] += 1    #DEPENDANT ON ABOVE!\n",
    "    schedule_event(get_att_1x_choice(clock, param, cust_id))\n",
    "        \n",
    "def att_1x_choice_event_handler (clock, state_var, out_var, param, att):\n",
    "    cust_id = (state_var['ID_list_AC1'].pop(0))[1] #Best I could do, hope 'insort' does the job correctly\n",
    "    att_options = [] #Initialize attraction options, ie. attractions customer can visit\n",
    "    choice_list = [] #Initialize choice list, this list contains only the attraction numbers that are permitted to be entered\n",
    "    for att_index in range(0, AN):\n",
    "        att_options.append(not(attr[cust_id][0][att_index])) #append the negation of attraction, as in, if customer visited attraction already, it is not availabe as an option\n",
    "    for i in range(len(att_options)):\n",
    "        if att_options[i]: #If land is availabe, ie. true\n",
    "            choice_list.append(i+1) #append land number in choice list from land options list\n",
    "    if len(choice_list) == 0:\n",
    "        out_var['deps_L1'].append([clock, cust_id])\n",
    "        state_var['custs_in_L1'] -= 1\n",
    "        schedule_event(get_land_choice(clock, param, cust_id)) #get_land_choice is equivalent to exit land \n",
    "    else:\n",
    "        final_choice = NN_AC_Least_Wait (clock, param, state_var, choice_list, 1)\n",
    "        if final_choice == 1:\n",
    "            out_var['arrs_A11'].append([clock, cust_id, state_var['q11']])\n",
    "            state_var['q11'] +=1\n",
    "            state_var['ID_list_A11'].append(cust_id)\n",
    "            schedule_event(get_start_att_11_event(clock, param, cust_id))\n",
    "        if final_choice == 2:\n",
    "            out_var['arrs_A12'].append([clock, cust_id, state_var['q12']])\n",
    "            state_var['q12'] +=1\n",
    "            state_var['ID_list_A12'].append(cust_id)\n",
    "            schedule_event(get_start_att_12_event(clock, param, cust_id))\n",
    "        if final_choice == 3:\n",
    "            out_var['arrs_A13'].append([clock, cust_id, state_var['q13']])\n",
    "            state_var['q13'] +=1\n",
    "            state_var['ID_list_A13'].append(cust_id)\n",
    "            schedule_event(get_start_att_13_event(clock, param, cust_id))\n",
    "\n",
    "def start_att_11_event_handler (clock, state_var, out_var, param, att):\n",
    "    if (state_var['q11'] >= param['AC11'] and state_var['SB11'] == False):\n",
    "        state_var['SB11'] = True\n",
    "        state_var['q11'] -= param['AC11']\n",
    "        schedule_event(get_depart_att_11_event(clock, param))\n",
    "        \n",
    "def start_att_12_event_handler (clock, state_var, out_var, param, att):\n",
    "    if (state_var['q12'] >= param['AC12'] and state_var['SB12'] == False):\n",
    "        state_var['SB12'] = True\n",
    "        state_var['q12'] -= param['AC12']\n",
    "        schedule_event(get_depart_att_12_event(clock, param))\n",
    "\n",
    "def start_att_13_event_handler (clock, state_var, out_var, param, att):\n",
    "    if (state_var['q13'] >= param['AC13'] and state_var['SB13'] == False):\n",
    "        state_var['SB13'] = True\n",
    "        state_var['q13'] -= param['AC13']\n",
    "        schedule_event(get_depart_att_13_event(clock, param))\n",
    "        \n",
    "        \n",
    "### LAND 2 ARRIVAL EVENT HANDLERS ###            \n",
    "def land_2_arr_event_handler (clock, state_var, out_var, param, att):\n",
    "    cust_id = (state_var['ID_list_L2'].pop(0))[1]     #insort\n",
    "    out_var['arrs_L2'].append([clock, cust_id, state_var['custs_in_L1']])\n",
    "    state_var['custs_in_L2'] += 1                 #DEPENDANT ON ABOVE!\n",
    "    schedule_event(get_att_2x_choice(clock, param, cust_id))\n",
    "        \n",
    "def att_2x_choice_event_handler (clock, state_var, out_var, param, att):\n",
    "    cust_id = (state_var['ID_list_AC2'].pop(0))[1]\n",
    "    att_options = [] #Initialize attraction options, ie. attractions customer can visit\n",
    "    choice_list = [] #Initialize choice list, this list contains only the attraction numbers that are permitted to be entered\n",
    "    for att_index in range(0, AN):\n",
    "        att_options.append(not(attr[cust_id][1][att_index])) #append the negation of attraction, as in, if customer visited attraction already, it is not availabe as an option\n",
    "    for i in range(len(att_options)):\n",
    "        if att_options[i]: #If land is availabe, ie. true\n",
    "            choice_list.append(i+1) #append land number in choice list from land options list\n",
    "    if len(choice_list) == 0:\n",
    "        out_var['deps_L2'].append([clock, cust_id])\n",
    "        state_var['custs_in_L2'] -= 1\n",
    "        schedule_event(get_land_choice(clock, param, cust_id)) #get_land_choice is equivalent to exit land \n",
    "    else:\n",
    "        final_choice = NN_AC_Least_Wait (clock, param, state_var, choice_list, 2)\n",
    "        if final_choice == 1:\n",
    "            out_var['arrs_A21'].append([clock, cust_id, state_var['q21']])\n",
    "            state_var['q21'] +=1\n",
    "            state_var['ID_list_A21'].append(cust_id)\n",
    "            schedule_event(get_start_att_21_event(clock, param, cust_id))\n",
    "        if final_choice == 2:\n",
    "            out_var['arrs_A22'].append([clock, cust_id, state_var['q22']])\n",
    "            state_var['q22'] +=1\n",
    "            state_var['ID_list_A22'].append(cust_id)\n",
    "            schedule_event(get_start_att_22_event(clock, param, cust_id))\n",
    "        if final_choice == 3:\n",
    "            out_var['arrs_A23'].append([clock, cust_id, state_var['q23']])\n",
    "            state_var['q23'] +=1\n",
    "            state_var['ID_list_A23'].append(cust_id)\n",
    "            schedule_event(get_start_att_23_event(clock, param, cust_id))\n",
    "\n",
    "def start_att_21_event_handler (clock, state_var, out_var, param, att):\n",
    "    if (state_var['q21'] >= param['AC21'] and state_var['SB21'] == False):\n",
    "        state_var['SB21'] = True\n",
    "        state_var['q21'] -= param['AC21']\n",
    "        schedule_event(get_depart_att_21_event(clock, param))\n",
    "        \n",
    "def start_att_22_event_handler (clock, state_var, out_var, param, att):\n",
    "    if (state_var['q22'] >= param['AC22'] and state_var['SB22'] == False):\n",
    "        state_var['SB22'] = True\n",
    "        state_var['q22'] -= param['AC22']\n",
    "        schedule_event(get_depart_att_22_event(clock, param))\n",
    "\n",
    "def start_att_23_event_handler (clock, state_var, out_var, param, att):\n",
    "    if (state_var['q23'] >= param['AC23'] and state_var['SB23'] == False):\n",
    "        state_var['SB23'] = True\n",
    "        state_var['q23'] -= param['AC23']\n",
    "        schedule_event(get_depart_att_23_event(clock, param))\n",
    "        \n",
    "### LAND 3 ARRIVAL EVENT HANDLERS ###            \n",
    "def land_3_arr_event_handler (clock, state_var, out_var, param, att):\n",
    "    cust_id = (state_var['ID_list_L3'].pop(0))[1]  #insort\n",
    "    out_var['arrs_L3'].append([clock, cust_id, state_var['custs_in_L1']])\n",
    "    state_var['custs_in_L3'] += 1              #DEPENDANT ON ABOVE!\n",
    "    schedule_event(get_att_3x_choice(clock, param, cust_id))\n",
    "        \n",
    "def att_3x_choice_event_handler (clock, state_var, out_var, param, att):\n",
    "    cust_id = (state_var['ID_list_AC3'].pop(0))[1]\n",
    "    att_options = [] #Initialize attraction options, ie. attractions customer can visit\n",
    "    choice_list = [] #Initialize choice list, this list contains only the attraction numbers that are permitted to be entered\n",
    "    for att_index in range(0, AN):\n",
    "        att_options.append(not(attr[cust_id][2][att_index])) #append the negation of attraction, as in, if customer visited attraction already, it is not availabe as an option\n",
    "    for i in range(len(att_options)):\n",
    "        if att_options[i]: #If land is availabe, ie. true\n",
    "            choice_list.append(i+1) #append land number in choice list from land options list\n",
    "    if len(choice_list) == 0:\n",
    "        out_var['deps_L3'].append([clock, cust_id])\n",
    "        state_var['custs_in_L3'] -= 1\n",
    "        schedule_event(get_land_choice(clock, param, cust_id)) #get_land_choice is equivalent to exit land \n",
    "    else:\n",
    "        final_choice = NN_AC_Least_Wait (clock, param, state_var, choice_list, 3)\n",
    "        if final_choice == 1:\n",
    "            out_var['arrs_A31'].append([clock, cust_id, state_var['q31']])\n",
    "            state_var['q31'] +=1\n",
    "            state_var['ID_list_A31'].append(cust_id)\n",
    "            schedule_event(get_start_att_31_event(clock, param, cust_id))\n",
    "        if final_choice == 2:\n",
    "            out_var['arrs_A32'].append([clock, cust_id, state_var['q32']])\n",
    "            state_var['q32'] +=1\n",
    "            state_var['ID_list_A32'].append(cust_id)\n",
    "            schedule_event(get_start_att_32_event(clock, param, cust_id))\n",
    "        if final_choice == 3:\n",
    "            out_var['arrs_A33'].append([clock, cust_id, state_var['q33']])\n",
    "            state_var['q33'] +=1\n",
    "            state_var['ID_list_A33'].append(cust_id)\n",
    "            schedule_event(get_start_att_33_event(clock, param, cust_id))\n",
    "\n",
    "def start_att_31_event_handler (clock, state_var, out_var, param, att):\n",
    "    if (state_var['q31'] >= param['AC31'] and state_var['SB31'] == False):\n",
    "        state_var['SB31'] = True\n",
    "        state_var['q31'] -= param['AC31']\n",
    "        schedule_event(get_depart_att_31_event(clock, param))\n",
    "        \n",
    "def start_att_32_event_handler (clock, state_var, out_var, param, att):\n",
    "    if (state_var['q32'] >= param['AC32'] and state_var['SB32'] == False):\n",
    "        state_var['SB32'] = True\n",
    "        state_var['q32'] -= param['AC32']\n",
    "        schedule_event(get_depart_att_32_event(clock, param))\n",
    "\n",
    "def start_att_33_event_handler (clock, state_var, out_var, param, att):\n",
    "    if (state_var['q33'] >= param['AC33'] and state_var['SB33'] == False):\n",
    "        state_var['SB33'] = True\n",
    "        state_var['q33'] -= param['AC33']\n",
    "        schedule_event(get_depart_att_33_event(clock, param))\n",
    "    \n",
    "\n",
    "# DEPARTURES ___________________\n",
    "def departure_event_handler_security_check (clock, state_var, out_var, param, att):\n",
    "    state_var['SBsec'] = False # Make the ride free\n",
    "    #CHECK OUTVARS FOR ARRIVALS, AND DEPS\n",
    "    out_var['sec_dep'].append(clock)\n",
    "    if state_var['qsec'] >= 1:\n",
    "        schedule_event(get_start_security_check_event(clock, param))\n",
    "    ### ASSIGN AN ATTRIBUTE LIST FOR CUSTOMERS LEAVING THE SECURITY GATE, AND ADD CHOICE FUNCTION TO CHOOSE WHICH LAND CUSTOMER IS GOING TO NEXT ###\n",
    "    ### ID ASSIGNMENT OF CUSTOMERS IS DONE AFTER SECURITY GATE\n",
    "    # Above comments can be neglected for the time being #\n",
    "    attr.append(copy.deepcopy(cust_att))\n",
    "    evList_ID.append(['Create instance'])\n",
    "    schedule_event(get_land_choice(clock, param, len(attr)-1)) # \"len(attr)-1\" IS THE ID NUMBER OF CUSTOMER\n",
    "\n",
    "### LAND 1 DEPARTURE EVENT HANDLERS ###\n",
    "def depart_att_11_event_handler (clock, state_var, out_var, param, att):\n",
    "    state_var['SB11'] = False # Make the ride free\n",
    "    for i in range (0, param['AC11']):\n",
    "        cust_id = state_var['ID_list_A11'].pop(0)\n",
    "        attr[cust_id][0][0]=True\n",
    "        out_var['deps_A11'].append([clock, cust_id])\n",
    "        schedule_event(get_att_1x_choice(clock, param, cust_id))\n",
    "    if (state_var['q11'] >= param['AC11'] and state_var['SB11'] == False):\n",
    "        schedule_event(get_start_att_11_event(clock, param, cust_id))\n",
    "        \n",
    "def depart_att_12_event_handler (clock, state_var, out_var, param, att):\n",
    "    state_var['SB12'] = False # Make the ride free\n",
    "    for i in range (0, param['AC12']):\n",
    "        cust_id = state_var['ID_list_A12'].pop(0)\n",
    "        attr[cust_id][0][1]=True\n",
    "        out_var['deps_A12'].append([clock, cust_id])\n",
    "        schedule_event(get_att_1x_choice(clock, param, cust_id))\n",
    "    if (state_var['q12'] >= param['AC12'] and state_var['SB12'] == False):\n",
    "        schedule_event(get_start_att_12_event(clock, param, cust_id))\n",
    "        \n",
    "def depart_att_13_event_handler (clock, state_var, out_var, param, att):\n",
    "    state_var['SB13'] = False # Make the ride free\n",
    "    for i in range (0, param['AC13']):\n",
    "        cust_id = state_var['ID_list_A13'].pop(0)\n",
    "        attr[cust_id][0][2]=True\n",
    "        out_var['deps_A13'].append([clock, cust_id])\n",
    "        schedule_event(get_att_1x_choice(clock, param, cust_id))\n",
    "    if (state_var['q13'] >= param['AC13'] and state_var['SB13'] == False):\n",
    "        schedule_event(get_start_att_13_event(clock, param, cust_id))\n",
    "        \n",
    "### LAND 2 DEPARTURE EVENT HANDLERS ###\n",
    "def depart_att_21_event_handler (clock, state_var, out_var, param, att):\n",
    "    state_var['SB21'] = False # Make the ride free\n",
    "    for i in range (0, param['AC21']):\n",
    "        cust_id = state_var['ID_list_A21'].pop(0)\n",
    "        attr[cust_id][1][0]=True\n",
    "        out_var['deps_A21'].append([clock, cust_id])\n",
    "        schedule_event(get_att_2x_choice(clock, param, cust_id))\n",
    "    if (state_var['q21'] >= param['AC21'] and state_var['SB21'] == False):\n",
    "        schedule_event(get_start_att_21_event(clock, param, cust_id))\n",
    "        \n",
    "def depart_att_22_event_handler (clock, state_var, out_var, param, att):\n",
    "    state_var['SB22'] = False # Make the ride free\n",
    "    for i in range (0, param['AC22']):\n",
    "        cust_id = state_var['ID_list_A22'].pop(0)\n",
    "        attr[cust_id][1][1]=True\n",
    "        out_var['deps_A22'].append([clock, cust_id])\n",
    "        schedule_event(get_att_2x_choice(clock, param, cust_id))\n",
    "    if (state_var['q22'] >= param['AC22'] and state_var['SB22'] == False):\n",
    "        schedule_event(get_start_att_22_event(clock, param, cust_id))\n",
    "        \n",
    "def depart_att_23_event_handler (clock, state_var, out_var, param, att):\n",
    "    state_var['SB23'] = False # Make the ride free\n",
    "    for i in range (0, param['AC23']):\n",
    "        cust_id = state_var['ID_list_A23'].pop(0)\n",
    "        attr[cust_id][1][2]=True\n",
    "        out_var['deps_A23'].append([clock, cust_id])\n",
    "        schedule_event(get_att_2x_choice(clock, param, cust_id))\n",
    "    if (state_var['q23'] >= param['AC23'] and state_var['SB23'] == False):\n",
    "        schedule_event(get_start_att_23_event(clock, param, cust_id))\n",
    "        \n",
    "### LAND 3 DEPARTURE EVENT HANDLERS ###\n",
    "def depart_att_31_event_handler (clock, state_var, out_var, param, att):\n",
    "    state_var['SB31'] = False # Make the ride free\n",
    "    for i in range (0, param['AC31']):\n",
    "        cust_id = state_var['ID_list_A31'].pop(0)\n",
    "        attr[cust_id][2][0]=True\n",
    "        out_var['deps_A31'].append([clock, cust_id])\n",
    "        schedule_event(get_att_3x_choice(clock, param, cust_id))\n",
    "    if (state_var['q31'] >= param['AC31'] and state_var['SB31'] == False):\n",
    "        schedule_event(get_start_att_31_event(clock, param, cust_id))\n",
    "        \n",
    "def depart_att_32_event_handler (clock, state_var, out_var, param, att):\n",
    "    state_var['SB32'] = False # Make the ride free\n",
    "    for i in range (0, param['AC32']):\n",
    "        cust_id = state_var['ID_list_A32'].pop(0)\n",
    "        attr[cust_id][2][1]=True\n",
    "        out_var['deps_A32'].append([clock, cust_id])\n",
    "        schedule_event(get_att_3x_choice(clock, param, cust_id))\n",
    "    if (state_var['q32'] >= param['AC32'] and state_var['SB32'] == False):\n",
    "        schedule_event(get_start_att_32_event(clock, param, cust_id))\n",
    "        \n",
    "def depart_att_33_event_handler (clock, state_var, out_var, param, att):\n",
    "    state_var['SB33'] = False # Make the ride free\n",
    "    for i in range (0, param['AC33']):\n",
    "        cust_id = state_var['ID_list_A33'].pop(0)\n",
    "        attr[cust_id][2][2]=True\n",
    "        out_var['deps_A33'].append([clock, cust_id])\n",
    "        schedule_event(get_att_3x_choice(clock, param, cust_id))\n",
    "    if (state_var['q33'] >= param['AC33'] and state_var['SB33'] == False):\n",
    "        schedule_event(get_start_att_23_event(clock, param, cust_id))\n",
    "        \n",
    "def departure_event_handler_TP (clock, state_var, out_var, param, att):\n",
    "    state_var['cust_in_TP'] -= 1 "
   ]
  },
  {
   "cell_type": "code",
   "execution_count": 27,
   "id": "c696dc2a",
   "metadata": {},
   "outputs": [],
   "source": [
    "#Functions below are used for Analysis and debugging\n",
    "\n",
    "def vectorize_list(nl, i): #Function which takes in a nested list, and outputs a vector given the index\n",
    "    outvec = []\n",
    "    for instance in nl:\n",
    "        outvec.append(instance[i])\n",
    "    return outvec\n",
    "\n",
    "def CC_Atts (state_var, param): # Checks if state variables are consistent wrt Attractions, used for debugging\n",
    "    coins = [state_var['cust_in_TP'], sum(Qsr(state_var, param))]\n",
    "    delta = coins[0] - coins[1]\n",
    "    return [coins, delta]\n",
    "\n",
    "def CC_Lands (state_var, param): # Checks if state variables are consistent wrt Lands, used for debugging\n",
    "    coins = [state_var['cust_in_TP'], state_var['custs_in_L1'], state_var['custs_in_L2'], state_var['custs_in_L3']]\n",
    "    delta = coins[0] - coins[1] - coins[2] - coins[3]\n",
    "    return [coins, delta]\n",
    "\n",
    "def CC_Comb (state_var, param): # Debug\n",
    "    mysum = CC_Lands(state_var, param)[0] - CC_Atts(state_var, param)[0]\n",
    "    return mysum\n",
    "    \n",
    "def Qs (state_var, param): #Record Queue densities at each attraction\n",
    "    qs = []\n",
    "    for i in range(1, LN+1):\n",
    "        for j in range(1, AN+1):\n",
    "            xx = str(i) + str(j)\n",
    "            qk = 'q'+xx\n",
    "            ack = 'AC'+xx\n",
    "            qtemp = state_var[qk]/param[ack]\n",
    "            qs.append(round(qtemp,2))\n",
    "    return qs\n",
    "\n",
    "def Qsr (state_var, param): #Record Raw Queue lengths at each attraction\n",
    "    qs = []\n",
    "    for i in range(1, LN+1):\n",
    "        for j in range(1, AN+1):\n",
    "            xx = str(i) + str(j)\n",
    "            qk = 'q'+xx\n",
    "            ack = 'AC'+xx\n",
    "            qtemp = state_var[qk]\n",
    "            qs.append(qtemp)\n",
    "    return qs"
   ]
  },
  {
   "cell_type": "code",
   "execution_count": 28,
   "id": "37a99a75",
   "metadata": {},
   "outputs": [
    {
     "name": "stdout",
     "output_type": "stream",
     "text": [
      "Input Parameters:\n",
      "_lambda -> 0.2\n",
      "_STsec -> 0.25\n",
      "_TBA -> 0.0016666666666666668\n",
      "_TBL -> 0.0011111111111111111\n",
      "Tot_Sim_Time -> 36000\n",
      "TTC_TH -> 3600\n",
      "ST11 -> 660\n",
      "AC11 -> 220\n",
      "ST12 -> 195.0\n",
      "AC12 -> 46\n",
      "ST13 -> 150.0\n",
      "AC13 -> 30\n",
      "ST21 -> 1245.0\n",
      "AC21 -> 166\n",
      "ST22 -> 120\n",
      "AC22 -> 47\n",
      "ST23 -> 165.0\n",
      "AC23 -> 37\n",
      "ST31 -> 210.0\n",
      "AC31 -> 140\n",
      "ST32 -> 150.0\n",
      "AC32 -> 50\n",
      "ST33 -> 285.0\n",
      "AC33 -> 40\n",
      "Seed ->  None\n",
      "Sim Time:  136.17511419999983 seconds\n"
     ]
    }
   ],
   "source": [
    "# Insert an event into the event list\t\t\n",
    "def schedule_event(ev):\n",
    "    global evList\n",
    "    evList.put(ev)\n",
    "\n",
    "mySeed = None\n",
    "# Main simulation function\n",
    "def sim(state_var, out_var, param):\n",
    "    global evList\n",
    "    global SP\n",
    "    clock = 0\n",
    "    evList = queue.PriorityQueue()\n",
    "    # Reset state and output variables\n",
    "    # Restart notebook instead...\n",
    "    \n",
    "    # Initialize (seed) the RNG\t\n",
    "    rnd.seed()\n",
    "    \n",
    "    # Insert initial event\n",
    "    ev = get_next_arrival_event_TP(clock, param)\n",
    "    schedule_event(ev)\n",
    "    \n",
    "    # Start simulation\n",
    "    global evCount\n",
    "    evCount = 0\n",
    "    while (not(evList.empty())) and (clock < param['Tot_Sim_Time']):\n",
    "        ev = evList.get()\n",
    "        clock = ev[0] #Update time\n",
    "        ev[2](clock, state_var, out_var, param, attr)\n",
    "        evCount += 1\n",
    "        if len(SP1) == 0:\n",
    "            Qstemp = Qs (state_var, param)\n",
    "            CCAtemp = CC_Atts(state_var, param)\n",
    "            CCLtemp = CC_Lands(state_var, param)\n",
    "            SP1.append([len(SP1), round(clock,2),ev[1], Qstemp[0], Qstemp[1], Qstemp[2], Qstemp[3], Qstemp[4], Qstemp[5], Qstemp[6], Qstemp[7], Qstemp[8]])\n",
    "            SP2.append([len(SP1), round(clock,2),ev[1], CCAtemp])\n",
    "            SP3.append([len(SP1), round(clock,2),ev[1], CCLtemp])\n",
    "        \n",
    "        if Qstemp != Qs (state_var, param):\n",
    "            Qstemp = Qs (state_var, param)\n",
    "            SP1.append([len(SP1), round(clock,2),ev[1], Qstemp[0], Qstemp[1], Qstemp[2], Qstemp[3], Qstemp[4], Qstemp[5], Qstemp[6], Qstemp[7], Qstemp[8]])\n",
    "        \n",
    "        if CCAtemp != CC_Atts(state_var, param):\n",
    "            CCAtemp = CC_Atts(state_var, param)\n",
    "            SP2.append([len(SP2), round(clock,2),ev[1], CCAtemp])\n",
    "            \n",
    "        if CCLtemp != CC_Lands(state_var, param):\n",
    "            CCLtemp = CC_Lands(state_var, param)\n",
    "            SP3.append([len(SP3), round(clock,2),ev[1], CCLtemp])\n",
    "            \n",
    "def main():\n",
    "    \n",
    "    \n",
    "    print(\"Input Parameters:\")\n",
    "    for key in param:\n",
    "        print(key, '->', param[key])\n",
    "    print('Seed -> ', mySeed)\n",
    "    rnd.seed() # Reseed RNG (If multiple runs, remove (mySeed))\n",
    "    start = timeit.default_timer() #Start timing simulation run\n",
    "    sim(state_var, out_var, param)\n",
    "    stop = timeit.default_timer() #End timing\n",
    "    print('Sim Time: ', stop - start, 'seconds')\n",
    "\n",
    "if __name__ == '__main__':\n",
    "    main()"
   ]
  },
  {
   "cell_type": "markdown",
   "id": "696902ec",
   "metadata": {},
   "source": [
    "# Performance Metrics\n",
    "## 1) Wait Time Statistics"
   ]
  },
  {
   "cell_type": "code",
   "execution_count": 29,
   "id": "39e6728e",
   "metadata": {},
   "outputs": [],
   "source": [
    "for instance in out_var['TPD']:\n",
    "    i = instance[1]\n",
    "    wait_Master['TP'].append((instance[0]-out_var['TPA'][i])/60)  # Index#, ID#, time in TP, Time of departure"
   ]
  },
  {
   "cell_type": "code",
   "execution_count": 30,
   "id": "c565a72c",
   "metadata": {},
   "outputs": [],
   "source": [
    "def calc_wait (arrs, deps, ST):\n",
    "    Axxw = []\n",
    "    for i in range(len(deps)):\n",
    "        idnum = deps[i][1]\n",
    "        if idnum != arrs[i][1]:\n",
    "            raise Exception(\"Non-matching ID\")\n",
    "        q = arrs[i][2]\n",
    "        wt = deps[i][0]-arrs[i][0]-ST #Remove service time to denote actual wait time, since ST is constant\n",
    "        time = arrs[i][0]/60\n",
    "        Axxw.append([i, idnum, q, wt/60, time])\n",
    "    return Axxw\n",
    "\n",
    "def calc_wait_L (arrs, deps):\n",
    "    Axxw = []\n",
    "    index = 0\n",
    "    for i in range(len(deps)):\n",
    "        idnum = deps[i][1]\n",
    "        for j in range(len(arrs)): #Nested loop, could cost computation, a better way is to sort arrs and deps\n",
    "            if arrs[j][1] ==  idnum:\n",
    "                aj = j\n",
    "                break\n",
    "\n",
    "        if deps[i][1] != arrs[aj][1]:\n",
    "            raise Exception(\"Non-matching ID\")\n",
    "        q = arrs[aj][2]\n",
    "        wt = deps[i][0]-arrs[aj][0]\n",
    "        time = arrs[aj][0]/60\n",
    "        Axxw.append([i, idnum, q, wt/60, time])\n",
    "        index += 1\n",
    "    return Axxw"
   ]
  },
  {
   "cell_type": "code",
   "execution_count": 31,
   "id": "a7d2b281",
   "metadata": {},
   "outputs": [
    {
     "name": "stdout",
     "output_type": "stream",
     "text": [
      "All times  are in minutes\n",
      "out_var['wait_L1'] created. (Index#, ID#, custs in land, wait time, time of arrival)\n",
      "out_var['wait_A11'] created. (Index#, ID#, queue at entry, wait time, time of arrival)\n",
      "out_var['wait_A12'] created. (Index#, ID#, queue at entry, wait time, time of arrival)\n",
      "out_var['wait_A13'] created. (Index#, ID#, queue at entry, wait time, time of arrival)\n",
      "out_var['wait_L2'] created. (Index#, ID#, custs in land, wait time, time of arrival)\n",
      "out_var['wait_A21'] created. (Index#, ID#, queue at entry, wait time, time of arrival)\n",
      "out_var['wait_A22'] created. (Index#, ID#, queue at entry, wait time, time of arrival)\n",
      "out_var['wait_A23'] created. (Index#, ID#, queue at entry, wait time, time of arrival)\n",
      "out_var['wait_L3'] created. (Index#, ID#, custs in land, wait time, time of arrival)\n",
      "out_var['wait_A31'] created. (Index#, ID#, queue at entry, wait time, time of arrival)\n",
      "out_var['wait_A32'] created. (Index#, ID#, queue at entry, wait time, time of arrival)\n",
      "out_var['wait_A33'] created. (Index#, ID#, queue at entry, wait time, time of arrival)\n"
     ]
    }
   ],
   "source": [
    "print('All times  are in minutes')\n",
    "#Calculate wait_times for each attractions\n",
    "for i in range(1, LN+1):\n",
    "    Lx = 'L'+str(i)\n",
    "    wait_key = 'wait_' + Lx # Wait  times for each attraction.\n",
    "    arrs_key = 'arrs_' + Lx\n",
    "    deps_key = 'deps_' + Lx\n",
    "    arrs = out_var[arrs_key]\n",
    "    deps = out_var[deps_key]\n",
    "    out_var[wait_key] = calc_wait_L(arrs, deps)\n",
    "    print('out_var[\\'' + wait_key + '\\'] created. (Index#, ID#, custs in land, wait time, time of arrival)' )\n",
    "    for j in range(1, AN+1):\n",
    "        Axx = 'A'+str(i)+str(j)\n",
    "        wait_key = 'wait_' + Axx # Wait  times for each attraction.\n",
    "        arrs_key = 'arrs_' + Axx\n",
    "        deps_key = 'deps_' + Axx\n",
    "        arrs = out_var[arrs_key]\n",
    "        deps = out_var[deps_key]\n",
    "        ST = ST_param[i-1][j-1]\n",
    "        out_var[wait_key] = calc_wait(arrs, deps, ST)\n",
    "        print('out_var[\\'' + wait_key + '\\'] created. (Index#, ID#, queue at entry, wait time, time of arrival)' )"
   ]
  },
  {
   "cell_type": "code",
   "execution_count": 32,
   "id": "c2b8ebd8",
   "metadata": {},
   "outputs": [],
   "source": [
    "for i in range(1, LN+1):\n",
    "    Lx = 'L'+str(i)\n",
    "    for instance in out_var['wait_'+Lx]:\n",
    "        wait_Master[Lx].append(instance[3])\n",
    "    for j in range(1, AN+1):\n",
    "        Axx = 'A'+str(i)+str(j)\n",
    "        for instance_A in out_var['wait_'+Axx]:\n",
    "            wait_Master[Axx].append(instance_A[3])"
   ]
  },
  {
   "cell_type": "code",
   "execution_count": 33,
   "id": "fcf036cc",
   "metadata": {},
   "outputs": [],
   "source": [
    "def hist_waits (Lax):\n",
    "    plt.hist(wait_Master[Lax], color = 'blue', edgecolor = 'black', bins = 30)\n",
    "    plt.title('Histogram of Wait - Delay in ' + Lax)\n",
    "    plt.xlabel('Delay (min)')\n",
    "    plt.ylabel('Number of Instances')\n",
    "    print('mean = ',stat.mean(wait_Master[Lax]))\n",
    "    print('stdev = ',stat.stdev(wait_Master[Lax]))\n",
    "    plt.show()\n",
    "    if Lax[0] == 'A':\n",
    "        xx = Lax[1]+Lax[2]\n",
    "        stkey = 'ST'+str(xx)\n",
    "        ackey = 'AC'+str(xx)\n",
    "        print('ST', '->', param[stkey], 'seconds')\n",
    "        print('AC', '->', param[ackey])\n",
    "    print('--------------------------------------')"
   ]
  },
  {
   "cell_type": "code",
   "execution_count": 34,
   "id": "ad144975",
   "metadata": {},
   "outputs": [
    {
     "name": "stdout",
     "output_type": "stream",
     "text": [
      "mean =  311.18593735662785\n",
      "stdev =  55.60130911115828\n"
     ]
    },
    {
     "data": {
      "image/png": "[encoded data removed]",
      "text/plain": [
       "<Figure size 432x288 with 1 Axes>"
      ]
     },
     "metadata": {
      "needs_background": "light"
     },
     "output_type": "display_data"
    },
    {
     "name": "stdout",
     "output_type": "stream",
     "text": [
      "--------------------------------------\n",
      "mean =  104.08961682934431\n",
      "stdev =  31.975647110180596\n"
     ]
    },
    {
     "data": {
      "image/png": "[encoded data removed]",
      "text/plain": [
       "<Figure size 432x288 with 1 Axes>"
      ]
     },
     "metadata": {
      "needs_background": "light"
     },
     "output_type": "display_data"
    },
    {
     "name": "stdout",
     "output_type": "stream",
     "text": [
      "--------------------------------------\n",
      "mean =  21.122816018223627\n",
      "stdev =  6.597659667571185\n"
     ]
    },
    {
     "data": {
      "image/png": "[encoded data removed]",
      "text/plain": [
       "<Figure size 432x288 with 1 Axes>"
      ]
     },
     "metadata": {
      "needs_background": "light"
     },
     "output_type": "display_data"
    },
    {
     "name": "stdout",
     "output_type": "stream",
     "text": [
      "ST -> 660 seconds\n",
      "AC -> 220\n",
      "--------------------------------------\n",
      "mean =  16.53683029597343\n",
      "stdev =  9.824333563212292\n"
     ]
    },
    {
     "data": {
      "image/png": "[encoded data removed]",
      "text/plain": [
       "<Figure size 432x288 with 1 Axes>"
      ]
     },
     "metadata": {
      "needs_background": "light"
     },
     "output_type": "display_data"
    },
    {
     "name": "stdout",
     "output_type": "stream",
     "text": [
      "ST -> 195.0 seconds\n",
      "AC -> 46\n",
      "--------------------------------------\n",
      "mean =  28.23659591700164\n",
      "stdev =  16.631666609278845\n"
     ]
    },
    {
     "data": {
      "image/png": "[encoded data removed]",
      "text/plain": [
       "<Figure size 432x288 with 1 Axes>"
      ]
     },
     "metadata": {
      "needs_background": "light"
     },
     "output_type": "display_data"
    },
    {
     "name": "stdout",
     "output_type": "stream",
     "text": [
      "ST -> 150.0 seconds\n",
      "AC -> 30\n",
      "--------------------------------------\n",
      "mean =  104.85914013024478\n",
      "stdev =  29.675361817646063\n"
     ]
    },
    {
     "data": {
      "image/png": "[encoded data removed]",
      "text/plain": [
       "<Figure size 432x288 with 1 Axes>"
      ]
     },
     "metadata": {
      "needs_background": "light"
     },
     "output_type": "display_data"
    },
    {
     "name": "stdout",
     "output_type": "stream",
     "text": [
      "--------------------------------------\n",
      "mean =  54.66664612170737\n",
      "stdev =  19.52167762562365\n"
     ]
    },
    {
     "data": {
      "image/png": "[encoded data removed]",
      "text/plain": [
       "<Figure size 432x288 with 1 Axes>"
      ]
     },
     "metadata": {
      "needs_background": "light"
     },
     "output_type": "display_data"
    },
    {
     "name": "stdout",
     "output_type": "stream",
     "text": [
      "ST -> 1245.0 seconds\n",
      "AC -> 166\n",
      "--------------------------------------\n",
      "mean =  5.633341656611197\n",
      "stdev =  5.072477832500641\n"
     ]
    },
    {
     "data": {
      "image/png": "[encoded data removed]",
      "text/plain": [
       "<Figure size 432x288 with 1 Axes>"
      ]
     },
     "metadata": {
      "needs_background": "light"
     },
     "output_type": "display_data"
    },
    {
     "name": "stdout",
     "output_type": "stream",
     "text": [
      "ST -> 120 seconds\n",
      "AC -> 47\n",
      "--------------------------------------\n",
      "mean =  5.449325544361248\n",
      "stdev =  3.9039825975824987\n"
     ]
    },
    {
     "data": {
      "image/png": "[encoded data removed]",
      "text/plain": [
       "<Figure size 432x288 with 1 Axes>"
      ]
     },
     "metadata": {
      "needs_background": "light"
     },
     "output_type": "display_data"
    },
    {
     "name": "stdout",
     "output_type": "stream",
     "text": [
      "ST -> 165.0 seconds\n",
      "AC -> 37\n",
      "--------------------------------------\n",
      "mean =  79.40778940581484\n",
      "stdev =  22.336959449213143\n"
     ]
    },
    {
     "data": {
      "image/png": "[encoded data removed]",
      "text/plain": [
       "<Figure size 432x288 with 1 Axes>"
      ]
     },
     "metadata": {
      "needs_background": "light"
     },
     "output_type": "display_data"
    },
    {
     "name": "stdout",
     "output_type": "stream",
     "text": [
      "--------------------------------------\n",
      "mean =  13.156651767273305\n",
      "stdev =  5.810546071545136\n"
     ]
    },
    {
     "data": {
      "image/png": "[encoded data removed]",
      "text/plain": [
       "<Figure size 432x288 with 1 Axes>"
      ]
     },
     "metadata": {
      "needs_background": "light"
     },
     "output_type": "display_data"
    },
    {
     "name": "stdout",
     "output_type": "stream",
     "text": [
      "ST -> 210.0 seconds\n",
      "AC -> 140\n",
      "--------------------------------------\n",
      "mean =  5.302528689017178\n",
      "stdev =  2.4183490253822373\n"
     ]
    },
    {
     "data": {
      "image/png": "[encoded data removed]",
      "text/plain": [
       "<Figure size 432x288 with 1 Axes>"
      ]
     },
     "metadata": {
      "needs_background": "light"
     },
     "output_type": "display_data"
    },
    {
     "name": "stdout",
     "output_type": "stream",
     "text": [
      "ST -> 150.0 seconds\n",
      "AC -> 50\n",
      "--------------------------------------\n",
      "mean =  21.14744466223512\n",
      "stdev =  9.412962675740747\n"
     ]
    },
    {
     "data": {
      "image/png": "[encoded data removed]",
      "text/plain": [
       "<Figure size 432x288 with 1 Axes>"
      ]
     },
     "metadata": {
      "needs_background": "light"
     },
     "output_type": "display_data"
    },
    {
     "name": "stdout",
     "output_type": "stream",
     "text": [
      "ST -> 285.0 seconds\n",
      "AC -> 40\n",
      "--------------------------------------\n"
     ]
    }
   ],
   "source": [
    "for key in wait_Master:\n",
    "    hist_waits(key)"
   ]
  },
  {
   "cell_type": "markdown",
   "id": "87fec11f",
   "metadata": {},
   "source": [
    "## 2) Queue Density"
   ]
  },
  {
   "cell_type": "code",
   "execution_count": 35,
   "id": "b490a846",
   "metadata": {},
   "outputs": [],
   "source": [
    "def vectorize_list(nl, i): #Function which takes in a nested list, and outputs a vector given the index\n",
    "    outvec = []\n",
    "    for instance in nl:\n",
    "        outvec.append(instance[i])\n",
    "    return outvec"
   ]
  },
  {
   "cell_type": "code",
   "execution_count": 36,
   "id": "c2d02c61",
   "metadata": {},
   "outputs": [],
   "source": [
    "def plot_q_density_combined(SP):\n",
    "    global q_density\n",
    "    q_density = {}\n",
    "    color = ['b', 'g', 'r', 'c', 'm', 'y', 'lime', 'orange', 'k']\n",
    "    plt.title('Q Density at each ride')\n",
    "    plt.xlabel('Time (Hour)')\n",
    "    plt.ylabel('Q/AC')\n",
    "    time_list = vectorize_list(SP, 1)\n",
    "    time_list_min = [x / 3600 for x in time_list]\n",
    "    for i in range(1, LN+1):\n",
    "        for j in range(1, AN+1):\n",
    "            index = (i-1)*(LN) + j\n",
    "            Axx = 'A'+str(i)+str(j)\n",
    "            q_density[Axx] = vectorize_list(SP, 2+index)\n",
    "            plt.plot(time_list_min, q_density[Axx], color = color[index-1])\n",
    "            print(color[index-1], '->', Axx)"
   ]
  },
  {
   "cell_type": "code",
   "execution_count": 37,
   "id": "3d892261",
   "metadata": {},
   "outputs": [
    {
     "name": "stdout",
     "output_type": "stream",
     "text": [
      "b -> A11\n",
      "g -> A12\n",
      "r -> A13\n",
      "c -> A21\n",
      "m -> A22\n",
      "y -> A23\n",
      "lime -> A31\n",
      "orange -> A32\n",
      "k -> A33\n"
     ]
    },
    {
     "data": {
      "image/png": "[encoded data removed]",
      "text/plain": [
       "<Figure size 432x288 with 1 Axes>"
      ]
     },
     "metadata": {
      "needs_background": "light"
     },
     "output_type": "display_data"
    }
   ],
   "source": [
    "plot_q_density_combined(SP1)"
   ]
  },
  {
   "cell_type": "markdown",
   "id": "ccecad17",
   "metadata": {},
   "source": [
    "### Comparing this with the previous simulation, where choosing of lands and attractions was random, we find that Attraction 33 queue density has drastically decreased from 25 to 15. On the other hand, Attraction 13 has  increased from 2 to approximately 18. Since our main goal was to decrease the wait time of customers, the choice of lands and attractions did not account for attraction capacity, but it seems to have distributed customers around the park and ultimately reduced the waiting time as we shall see later."
   ]
  },
  {
   "cell_type": "code",
   "execution_count": 38,
   "id": "4ccd642e",
   "metadata": {},
   "outputs": [],
   "source": [
    "def plot_q_density_perride(Axx, color = 'b'):\n",
    "    plt.title('Q Density at ' + Axx)\n",
    "    plt.xlabel('Time (Hour)')\n",
    "    plt.ylabel('Q/AC')\n",
    "    time_list = vectorize_list(SP1, 1)\n",
    "    time_list_hr = [x / 3600 for x in time_list]\n",
    "    plt.plot(time_list_hr, q_density[Axx], color)\n",
    "    plt.show()"
   ]
  },
  {
   "cell_type": "code",
   "execution_count": 39,
   "id": "50515db2",
   "metadata": {},
   "outputs": [
    {
     "data": {
      "image/png": "[encoded data removed]",
      "text/plain": [
       "<Figure size 432x288 with 1 Axes>"
      ]
     },
     "metadata": {
      "needs_background": "light"
     },
     "output_type": "display_data"
    },
    {
     "data": {
      "image/png": "[encoded data removed]",
      "text/plain": [
       "<Figure size 432x288 with 1 Axes>"
      ]
     },
     "metadata": {
      "needs_background": "light"
     },
     "output_type": "display_data"
    },
    {
     "data": {
      "image/png": "[encoded data removed]",
      "text/plain": [
       "<Figure size 432x288 with 1 Axes>"
      ]
     },
     "metadata": {
      "needs_background": "light"
     },
     "output_type": "display_data"
    },
    {
     "data": {
      "image/png": "[encoded data removed]",
      "text/plain": [
       "<Figure size 432x288 with 1 Axes>"
      ]
     },
     "metadata": {
      "needs_background": "light"
     },
     "output_type": "display_data"
    }
   ],
   "source": [
    "plot_q_density_perride('A12', 'g')\n",
    "plot_q_density_perride('A13', 'r')\n",
    "plot_q_density_perride('A21', 'c')\n",
    "plot_q_density_perride('A33', 'k')"
   ]
  },
  {
   "cell_type": "markdown",
   "id": "36376779",
   "metadata": {},
   "source": [
    "### Proposal to rectify the issue: Try to equally distribute customers such that the queue density of each ride is equivalent. Technical details are to be thoroughly explained in next revision."
   ]
  },
  {
   "cell_type": "code",
   "execution_count": null,
   "id": "35665a70",
   "metadata": {},
   "outputs": [],
   "source": [
    "custs_not_all_rides = len(out_var['TPA']) - len(out_var['TPD']) # Number of customers that have not visited all rides\n",
    "print(\"Total customers that have entered the theme park = \", out_var['Count_Arrival_Ev'])\n",
    "print(\"Customers that that have not visited all rides = \", str(custs_not_all_rides))\n",
    "print(\"Percentage = \", str((custs_not_all_rides/out_var['Count_Arrival_Ev'])*100), \"%\")"
   ]
  },
  {
   "cell_type": "code",
   "execution_count": null,
   "id": "bb3b1eb4",
   "metadata": {},
   "outputs": [],
   "source": [
    "TPD_Analysis = out_var['TPD']\n",
    "TPA_Analysis = out_var['TPA']\n",
    "\n",
    "Times_in_TP = []\n",
    "custs_left_TP = [] #List containing ID numbers for customers that have left the theme park already\n",
    "n = 0\n",
    "for instance in TPD_Analysis:\n",
    "    i = instance[1]\n",
    "    custs_left_TP.append(i)\n",
    "    Times_in_TP.append([n ,i ,(instance[0]-TPA_Analysis[i])/60, instance[0]/60])  # Index#, ID#, time in TP, Time of departure\n",
    "    n += 1\n",
    "Times_in_TP_pure = copy.deepcopy(Times_in_TP)\n",
    "raw_Times_in_TP = vectorize_list(Times_in_TP, 2)\n",
    "average_time_in_TP = round((sum(raw_Times_in_TP)/len(raw_Times_in_TP))/60, 2)\n",
    "print(\"Average time spent in theme park for customers that visited all rides = \", average_time_in_TP, \"Hours\")\n",
    "print(\"Min time spent in park (VISITED ALL RIDES) = \", round(min(raw_Times_in_TP)/60, 3), \"Hours\")\n",
    "\n",
    "for i in range(len(TPA_Analysis)):\n",
    "    if i not in custs_left_TP:\n",
    "        Times_in_TP.append([n ,i , (param['Tot_Sim_Time']-TPA_Analysis[i])/60, param['Tot_Sim_Time']/60])\n",
    "\n",
    "average_time_in_TP = round((sum(raw_Times_in_TP)/len(raw_Times_in_TP))/60, 2)\n",
    "print(\"Overall average time spent in theme park = \", average_time_in_TP, \"Hours\")\n",
    "\n",
    "print(\"Max time spent in park = \", round(max(raw_Times_in_TP)/60, 2), \"Hours\")\n",
    "print(\"Min time spent in park = \", round(min(raw_Times_in_TP)/60, 3), \"Hours\")\n",
    "out_var['Times_in_TP'] = Times_in_TP"
   ]
  },
  {
   "cell_type": "code",
   "execution_count": null,
   "id": "c91d007c",
   "metadata": {},
   "outputs": [],
   "source": [
    "titp_pure = vectorize_list(Times_in_TP_pure,2)\n",
    "titp = vectorize_list(Times_in_TP, 2)"
   ]
  },
  {
   "cell_type": "code",
   "execution_count": null,
   "id": "039441ef",
   "metadata": {},
   "outputs": [],
   "source": [
    "plt.hist(titp_pure, color = 'blue', edgecolor = 'black', bins = 30)\n",
    "plt.title('Histogram of Total Time in Theme Park - Pure')\n",
    "plt.xlabel('Delay (min)')\n",
    "plt.ylabel('Number of Instances')\n",
    "print('mean = ',stat.mean(titp_pure))\n",
    "print('stdev = ',stat.stdev(titp_pure))"
   ]
  },
  {
   "cell_type": "code",
   "execution_count": null,
   "id": "3fd21fb7",
   "metadata": {},
   "outputs": [],
   "source": [
    "plt.hist(titp, color = 'blue', edgecolor = 'black', bins = 30)\n",
    "plt.title('Histogram of Total Time in Theme Park - Impure')\n",
    "plt.xlabel('Delay (min)')\n",
    "plt.ylabel('Number of Instances')\n",
    "print('mean = ',stat.mean(titp))\n",
    "print('stdev = ',stat.stdev(titp))"
   ]
  },
  {
   "cell_type": "markdown",
   "id": "11ff448f",
   "metadata": {},
   "source": [
    "### Due to time constraint, the simulation abruptly ends after simulation time exceeds the input  parameter 'Tot_Sim_Time'. Impure data includes people inside the theme park, considering all of them leaving at the moment the simulation ends, which is not an accurate representation."
   ]
  },
  {
   "cell_type": "markdown",
   "id": "1f136225",
   "metadata": {},
   "source": [
    "### Next revision (if time permits) shall be to arrange a proper exit for these customers inside the park. Technical details shall be thoroughly explained."
   ]
  },
  {
   "cell_type": "markdown",
   "id": "41e92043",
   "metadata": {},
   "source": [
    "### Now, we shall try a Deep Learning algorithm instead of simple linear regression for predicting the wait time. Neural Networks are superior to Linear Regression prediction algorithm for a plethora  of reasons, but the main reason we have chosen a Deep Neural Network is the fact that a NN can improve (learn) from new data, unlike linear regression, where the data has to be supplied all at once."
   ]
  },
  {
   "cell_type": "code",
   "execution_count": null,
   "id": "8806b6b2",
   "metadata": {},
   "outputs": [],
   "source": [
    "# INCLUDE THE IDs in your time analysis for more accurate results.\n",
    "# I.E. Times_in_park is a nested list of time of customer in TP, and their respective ID number.\n",
    "# ID NUMBER INCLUDED ONLY FOR"
   ]
  },
  {
   "cell_type": "code",
   "execution_count": null,
   "id": "d6de8bb5",
   "metadata": {},
   "outputs": [],
   "source": [
    "def calc_wait (arrs, deps, ST):\n",
    "    Axxw = []\n",
    "    for i in range(len(deps)):\n",
    "        idnum = deps[i][1]\n",
    "        if idnum != arrs[i][1]:\n",
    "            raise Exception(\"Non-matching ID\")\n",
    "        q = arrs[i][2]\n",
    "        wt = deps[i][0]-arrs[i][0]-ST #Remove service time to denote actual wait time, since ST is constant\n",
    "        time = arrs[i][0]/60\n",
    "        Axxw.append([i, idnum, q, wt/60, time])\n",
    "    return Axxw\n",
    "\n",
    "def calc_wait_L (arrs, deps):\n",
    "    Axxw = []\n",
    "    index = 0\n",
    "    for i in range(len(deps)):\n",
    "        idnum = deps[i][1]\n",
    "        for j in range(len(arrs)): #Nested loop, could cost computation, a better way is to sort arrs and deps\n",
    "            if arrs[j][1] ==  idnum:\n",
    "                aj = j\n",
    "                break\n",
    "\n",
    "        if deps[i][1] != arrs[aj][1]:\n",
    "            raise Exception(\"Non-matching ID\")\n",
    "        q = arrs[aj][2]\n",
    "        wt = deps[i][0]-arrs[aj][0]\n",
    "        time = arrs[aj][0]/60\n",
    "        Axxw.append([i, idnum, q, wt/60, time])\n",
    "        index += 1\n",
    "    return Axxw"
   ]
  },
  {
   "cell_type": "code",
   "execution_count": null,
   "id": "f81b52c7",
   "metadata": {},
   "outputs": [],
   "source": [
    "print('out_var[\\'Times_in_TP\\'] has already been created (Index#, ID#, time in TP)')\n",
    "print('All times  are in minutes')\n",
    "#Calculate wait_times for each attractions\n",
    "for i in range(1, LN+1):\n",
    "    Lx = 'L'+str(i)\n",
    "    wait_key = 'wait_' + Lx # Wait  times for each attraction.\n",
    "    arrs_key = 'arrs_' + Lx\n",
    "    deps_key = 'deps_' + Lx\n",
    "    arrs = out_var[arrs_key]\n",
    "    deps = out_var[deps_key]\n",
    "    out_var[wait_key] = calc_wait_L(arrs, deps)\n",
    "    print('out_var[\\'' + wait_key + '\\'] created. (Index#, ID#, custs in land, wait time, time of arrival)' )\n",
    "    for j in range(1, AN+1):\n",
    "        Axx = 'A'+str(i)+str(j)\n",
    "        wait_key = 'wait_' + Axx # Wait  times for each attraction.\n",
    "        arrs_key = 'arrs_' + Axx\n",
    "        deps_key = 'deps_' + Axx\n",
    "        arrs = out_var[arrs_key]\n",
    "        deps = out_var[deps_key]\n",
    "        ST = ST_param[i-1][j-1]\n",
    "        out_var[wait_key] = calc_wait(arrs, deps, ST)\n",
    "        print('out_var[\\'' + wait_key + '\\'] created. (Index#, ID#, queue at entry, wait time, time of arrival)' )"
   ]
  },
  {
   "cell_type": "code",
   "execution_count": null,
   "id": "49e904c0",
   "metadata": {},
   "outputs": [],
   "source": [
    "def plot_waits (key):\n",
    "    wait_key = 'wait_' + key \n",
    "    wait = out_var[wait_key]\n",
    "    indexes = vectorize_list(wait, 4)\n",
    "    queues = vectorize_list(wait, 2)\n",
    "    times = vectorize_list(wait, 3)\n",
    "    print(key, \"graph\")\n",
    "    plt.title('Wait time (red)/ queue length (blue)')\n",
    "    plt.xlabel('Time of entry')\n",
    "    plt.ylabel('Wait times (min) - Queue length')\n",
    "    plt.plot(indexes, times, color = 'r')\n",
    "    plt.plot(indexes, queues, color = 'b')\n",
    "    plt.show()\n",
    "    \n",
    "def hist_waits (key):\n",
    "    wait_key = 'wait_' + key \n",
    "    wait = out_var[wait_key]\n",
    "    times = vectorize_list(wait, 3)\n",
    "    plt.hist(times, color = 'blue', edgecolor = 'black', bins = 30)\n",
    "    plt.title('Histogram of Total Time in '+key)\n",
    "    plt.xlabel('Delay (min)')\n",
    "    plt.show()\n",
    "    print('mean = ',stat.mean(times))\n",
    "    print('stdev = ',stat.stdev(times))"
   ]
  },
  {
   "cell_type": "code",
   "execution_count": null,
   "id": "624cf47e",
   "metadata": {},
   "outputs": [],
   "source": [
    "waitkeys = []\n",
    "for i in range(1, LN+1):\n",
    "    waitkeys.append('L' + str(i))"
   ]
  },
  {
   "cell_type": "code",
   "execution_count": null,
   "id": "0caeb2cc",
   "metadata": {},
   "outputs": [],
   "source": [
    "for key in waitkeys:\n",
    "    plot_waits(key)"
   ]
  },
  {
   "cell_type": "code",
   "execution_count": null,
   "id": "b6ade86a",
   "metadata": {
    "scrolled": false
   },
   "outputs": [],
   "source": [
    "for key in waitkeys:\n",
    "    hist_waits(key)"
   ]
  },
  {
   "cell_type": "markdown",
   "id": "c311a5a7",
   "metadata": {},
   "source": [
    "# Machine Learning Model\n",
    "We will have two predictors, one for predicting the wait time in Lands, while the other predicts wait time in queues\n",
    "\n",
    "## Construction - Land Wait Time Predictor (LTP):\n",
    "We  shall define our label(prediction) and features(predictors):\n",
    "\n",
    "    Our label is clearly the waiting time.\n",
    "    \n",
    "Features used are as follows:\n",
    "\n",
    "    1- Customers in land at time of Entry ---------------- x1\n",
    "    2- Time of day (Current Sim Time) -------------------- x2\n",
    "    3- Arrival Rate (can be  interpreted as day)---------- x3\n",
    "\n",
    "\n",
    "## Construction - Attraction Wait Time Predictor (AWT):\n",
    "Input features are as follows:\n",
    "\n",
    "    1- Queue Length at Entry ----------------------------- x1\n",
    "    2- Time of day (Current Sim Time) -------------------- x2\n",
    "    3- Arrival Rate (can be  interpreted as day)---------- x3\n",
    "    4- Service time  of Attraction ----------------------- x4\n",
    "    5- Attraction Capacity ------------------------------- x5\n",
    "    \n",
    "    \n",
    "Future features to be  implemented are:\n",
    "\n",
    "    *- Number of customers currently in the Theme park\n",
    "    *- Time til close"
   ]
  },
  {
   "cell_type": "markdown",
   "id": "e3163a6c",
   "metadata": {},
   "source": [
    "## Data Vectorization - Lands\n",
    "Note that the last element in the lands X inputs is a one-hot encoding of the land that is associated to the features"
   ]
  },
  {
   "cell_type": "code",
   "execution_count": null,
   "id": "ce14cdbc",
   "metadata": {},
   "outputs": [],
   "source": [
    "q_L1 = vectorize_list(out_var['wait_L1'], 2)\n",
    "q_L2 = vectorize_list(out_var['wait_L2'], 2)\n",
    "q_L3 = vectorize_list(out_var['wait_L3'], 2)\n",
    "\n",
    "t_L1 = vectorize_list(out_var['wait_L1'], 4)\n",
    "t_L2 = vectorize_list(out_var['wait_L2'], 4)\n",
    "t_L3 = vectorize_list(out_var['wait_L3'], 4)\n",
    "\n",
    "x_L1 = []\n",
    "x_L2 = []\n",
    "x_L3 = []\n",
    "\n",
    "for i in range(len(q_L1)):\n",
    "    x_L1.append([q_L1[i], t_L1[i], param['_lambda'], 1, 0, 0])\n",
    "\n",
    "for i in range(len(q_L2)):\n",
    "    x_L2.append([q_L2[i], t_L2[i], param['_lambda'], 0, 1, 0])\n",
    "\n",
    "for i in range(len(q_L3)):\n",
    "    x_L3.append([q_L3[i], t_L3[i], param['_lambda'], 0, 0, 1])\n",
    "    \n",
    "y_L1 = vectorize_list(out_var['wait_L1'], 3)\n",
    "y_L2 = vectorize_list(out_var['wait_L2'], 3)\n",
    "y_L3 = vectorize_list(out_var['wait_L3'], 3)\n",
    "\n",
    "X_LX = np.concatenate((x_L1, np.concatenate((x_L2, x_L3), axis=0)), axis=0)\n",
    "y_LX = np.concatenate((y_L1, np.concatenate((y_L2, y_L3), axis=0)), axis=0)"
   ]
  },
  {
   "cell_type": "code",
   "execution_count": null,
   "id": "453d2169",
   "metadata": {},
   "outputs": [],
   "source": [
    "X_LX.shape"
   ]
  },
  {
   "cell_type": "markdown",
   "id": "6421164d",
   "metadata": {},
   "source": [
    "## Data Vectorization - Attractions"
   ]
  },
  {
   "cell_type": "code",
   "execution_count": null,
   "id": "d5b5f2e1",
   "metadata": {},
   "outputs": [],
   "source": [
    "# Use Pandas (better for big data)\n",
    "# Getting  our labels:\n",
    "y_AXX = []\n",
    "X_AXX = []\n",
    "for i in range(1, LN+1):\n",
    "    for j in range(1, AN+1):\n",
    "        Axx = 'A'+str(i)+str(j)\n",
    "        wait_key = 'wait_' + Axx # Wait  times for each attraction.\n",
    "        wait_list = (vectorize_list(out_var[wait_key], 3)) #Raw wait times as y(label)\n",
    "        queue_list = (vectorize_list(out_var[wait_key], 2))#Raw queue lengths\n",
    "        entry_time = (vectorize_list(out_var[wait_key], 4))#Raw time of arrival at queue (IN SECONDS!)\n",
    "        ST = ST_param[i-1][j-1] #Service Time in minutes\n",
    "        AC = AC_param[i-1][j-1] #Attraction Capacity\n",
    "        AR = param['_lambda']   #Arrival Rate\n",
    "        for instance in wait_list:\n",
    "            y_AXX.append(instance)\n",
    "        for k in range(0, len(queue_list)):\n",
    "            X_AXX.append([queue_list[k], entry_time[k], AR, ST, AC])"
   ]
  },
  {
   "cell_type": "markdown",
   "id": "f201b86c",
   "metadata": {},
   "source": [
    "### Test set and training set split"
   ]
  },
  {
   "cell_type": "code",
   "execution_count": null,
   "id": "5c34378e",
   "metadata": {},
   "outputs": [],
   "source": [
    "from sklearn.model_selection import train_test_split\n",
    "\n",
    "X_train_LX, X_test_LX, y_train_LX, y_test_LX = train_test_split(X_LX, y_LX, test_size=0, random_state=777)\n",
    "X_train_AXX, X_test_AXX, y_train_AXX, y_test_AXX = train_test_split(X_AXX, y_AXX, test_size=0, random_state=777)"
   ]
  },
  {
   "cell_type": "markdown",
   "id": "95d0235c",
   "metadata": {},
   "source": [
    "### Land  Time Predictor (LTP)"
   ]
  },
  {
   "cell_type": "code",
   "execution_count": null,
   "id": "9f843ea5",
   "metadata": {},
   "outputs": [],
   "source": [
    "from tensorflow.keras.models import Sequential\n",
    "from tensorflow.keras.layers import Dense, Activation\n",
    "\n",
    "LTP = Sequential()\n",
    "\n",
    "LTP.add(Dense(6, input_dim = 6,activation='relu'))\n",
    "LTP.add(Dense(21,activation='relu'))\n",
    "LTP.add(Dense(15,activation='relu'))\n",
    "\n",
    "# Final output node for prediction\n",
    "LTP.add(Dense(1))\n",
    "\n",
    "LTP.compile(optimizer='rmsprop',loss='mse')"
   ]
  },
  {
   "cell_type": "markdown",
   "id": "e052c872",
   "metadata": {},
   "source": [
    "### A summary of the NN is shown below"
   ]
  },
  {
   "cell_type": "code",
   "execution_count": null,
   "id": "872bda74",
   "metadata": {},
   "outputs": [],
   "source": [
    "print(LTP.summary())"
   ]
  },
  {
   "cell_type": "markdown",
   "id": "b96d3f35",
   "metadata": {},
   "source": [
    "### Attraction Wait Time Predictor (AWT)"
   ]
  },
  {
   "cell_type": "code",
   "execution_count": null,
   "id": "9a74616d",
   "metadata": {},
   "outputs": [],
   "source": [
    "AWT = Sequential()\n",
    "\n",
    "AWT.add(Dense(5, input_dim = 5,activation='relu'))\n",
    "AWT.add(Dense(12,activation='relu'))\n",
    "AWT.add(Dense(8,activation='relu'))\n",
    "\n",
    "# Final output node for prediction\n",
    "AWT.add(Dense(1))\n",
    "\n",
    "AWT.compile(optimizer='rmsprop',loss='mse')"
   ]
  },
  {
   "cell_type": "markdown",
   "id": "56be77be",
   "metadata": {},
   "source": [
    "### A summary of the NN is shown below"
   ]
  },
  {
   "cell_type": "code",
   "execution_count": null,
   "id": "042f5a5b",
   "metadata": {},
   "outputs": [],
   "source": [
    "print(AWT.summary())"
   ]
  },
  {
   "cell_type": "markdown",
   "id": "fb95c78b",
   "metadata": {},
   "source": [
    "## Fitting the data to both models"
   ]
  },
  {
   "cell_type": "code",
   "execution_count": null,
   "id": "99391522",
   "metadata": {},
   "outputs": [],
   "source": [
    "LTP.fit(X_train_LX,y_train_LX,epochs=1000)"
   ]
  },
  {
   "cell_type": "code",
   "execution_count": null,
   "id": "4181182e",
   "metadata": {
    "scrolled": true
   },
   "outputs": [],
   "source": [
    "AWT.fit(X_train_AXX,y_train_AXX,epochs=250)"
   ]
  },
  {
   "cell_type": "code",
   "execution_count": null,
   "id": "f1d8d42c",
   "metadata": {},
   "outputs": [],
   "source": [
    "loss_LTP = LTP.history.history['loss']\n",
    "loss_AWT = AWT.history.history['loss']"
   ]
  },
  {
   "cell_type": "code",
   "execution_count": null,
   "id": "5504d457",
   "metadata": {},
   "outputs": [],
   "source": [
    "import seaborn as sns\n",
    "sns.lineplot(x=range(len(loss_LTP)),y=loss_LTP)\n",
    "plt.title(\"Training Loss per Epoch - LTP\");\n",
    "plt.show()\n",
    "\n",
    "sns.lineplot(x=range(len(loss_AWT)),y=loss_AWT)\n",
    "plt.title(\"Training Loss per Epoch - AWT\");\n",
    "plt.show()"
   ]
  },
  {
   "cell_type": "markdown",
   "id": "d5a7a2ec",
   "metadata": {},
   "source": [
    "It seems that both models have reached convergence."
   ]
  },
  {
   "cell_type": "markdown",
   "id": "91e98242",
   "metadata": {},
   "source": [
    "### Now the LTP model seems to have converged. We now evaluate the  models on the test data"
   ]
  },
  {
   "cell_type": "code",
   "execution_count": null,
   "id": "6d2ae25d",
   "metadata": {},
   "outputs": [],
   "source": [
    "training_score_LTP = LTP.evaluate(X_train_LX, y_train_LX, verbose=0)\n",
    "test_score_LTP = LTP.evaluate(X_test_LX, y_test_LX, verbose=0)\n",
    "training_score_AWT = AWT.evaluate(X_train_AXX, y_train_AXX, verbose=0)\n",
    "test_score_AWT = AWT.evaluate(X_test_AXX, y_test_AXX, verbose=0)"
   ]
  },
  {
   "cell_type": "code",
   "execution_count": null,
   "id": "a313a574",
   "metadata": {},
   "outputs": [],
   "source": [
    "training_score_LTP"
   ]
  },
  {
   "cell_type": "code",
   "execution_count": null,
   "id": "1201fb17",
   "metadata": {},
   "outputs": [],
   "source": [
    "test_score_LTP"
   ]
  },
  {
   "cell_type": "code",
   "execution_count": null,
   "id": "7b091962",
   "metadata": {},
   "outputs": [],
   "source": [
    "print('LTP RMSE = ', round(sqrt(test_score_LTP), 2), 'Minutes')"
   ]
  },
  {
   "cell_type": "code",
   "execution_count": null,
   "id": "265f580a",
   "metadata": {},
   "outputs": [],
   "source": [
    "training_score_AWT"
   ]
  },
  {
   "cell_type": "code",
   "execution_count": null,
   "id": "e340ab8a",
   "metadata": {},
   "outputs": [],
   "source": [
    "test_score_AWT"
   ]
  },
  {
   "cell_type": "code",
   "execution_count": null,
   "id": "73bd23fb",
   "metadata": {},
   "outputs": [],
   "source": [
    "print('AWT RMSE = ', round(sqrt(test_score_AWT), 2), 'Minutes')"
   ]
  },
  {
   "cell_type": "code",
   "execution_count": null,
   "id": "53df4768",
   "metadata": {},
   "outputs": [],
   "source": [
    "raise Exception (\"B\")"
   ]
  },
  {
   "cell_type": "code",
   "execution_count": null,
   "id": "6a7463a5",
   "metadata": {},
   "outputs": [],
   "source": [
    "test_predictions = model.predict(X_test)"
   ]
  },
  {
   "cell_type": "code",
   "execution_count": null,
   "id": "3550130f",
   "metadata": {},
   "outputs": [],
   "source": [
    "test_predictions"
   ]
  },
  {
   "cell_type": "code",
   "execution_count": null,
   "id": "982024bc",
   "metadata": {},
   "outputs": [],
   "source": [
    "import pandas as pd"
   ]
  },
  {
   "cell_type": "code",
   "execution_count": null,
   "id": "4dd9361e",
   "metadata": {},
   "outputs": [],
   "source": [
    "pred_df = pd.DataFrame(y_test,columns=['Test Y'])"
   ]
  },
  {
   "cell_type": "code",
   "execution_count": null,
   "id": "bde38a05",
   "metadata": {},
   "outputs": [],
   "source": [
    "pred_df"
   ]
  },
  {
   "cell_type": "code",
   "execution_count": null,
   "id": "e244697e",
   "metadata": {},
   "outputs": [],
   "source": [
    "test_predictions = pd.Series(test_predictions.reshape(len(test_predictions)))"
   ]
  },
  {
   "cell_type": "code",
   "execution_count": null,
   "id": "1107a980",
   "metadata": {},
   "outputs": [],
   "source": [
    "test_predictions"
   ]
  },
  {
   "cell_type": "code",
   "execution_count": null,
   "id": "5dddae53",
   "metadata": {},
   "outputs": [],
   "source": [
    "pred_df = pd.concat([pred_df,test_predictions],axis=1)"
   ]
  },
  {
   "cell_type": "code",
   "execution_count": null,
   "id": "37e401a3",
   "metadata": {},
   "outputs": [],
   "source": [
    "pred_df.columns = ['Test Y','Model Predictions']"
   ]
  },
  {
   "cell_type": "code",
   "execution_count": null,
   "id": "de76370a",
   "metadata": {},
   "outputs": [],
   "source": [
    "pred_df"
   ]
  },
  {
   "cell_type": "code",
   "execution_count": null,
   "id": "7ed883cf",
   "metadata": {},
   "outputs": [],
   "source": [
    "y_pred = test_predictions = model.predict(x)"
   ]
  },
  {
   "cell_type": "code",
   "execution_count": null,
   "id": "a4a07140",
   "metadata": {},
   "outputs": [],
   "source": [
    "# Splitting our prediction for each attractions:\n",
    "# tbh could  just predict each one individually, why the hassle?\n",
    "dy_true = {}\n",
    "dy_pred = {}\n",
    "x_index = {}\n",
    "start_pos = 0\n",
    "for i in range(1, LN+1):\n",
    "    for j in range(1, AN+1):\n",
    "        Axx = 'A'+str(i)+str(j)\n",
    "        dy_pred[Axx]=[]\n",
    "        wait_key = 'wait_' + Axx # Wait  times for each attraction.\n",
    "        dy_true[Axx] = (vectorize_list(out_var[wait_key], 3)) # Raw wait times as y(label)\n",
    "        vlen =len(out_var[wait_key]) # Raw wait times as y(label)\n",
    "        l = 0\n",
    "        temp_y_pred = []\n",
    "        temp_x_index = []\n",
    "        for k in range(start_pos, vlen+start_pos):\n",
    "            temp_y_pred.append(y_pred[k])\n",
    "            temp_x_index.append(l)\n",
    "            l += 1\n",
    "        dy_pred[Axx] = temp_y_pred\n",
    "        x_index[Axx] = temp_x_index\n",
    "        start_pos += vlen"
   ]
  },
  {
   "cell_type": "code",
   "execution_count": null,
   "id": "f197511b",
   "metadata": {},
   "outputs": [],
   "source": [
    "def plot_true_vs_pred_perride(Axx):\n",
    "    plt.title('Wait times for '+ Axx)\n",
    "    plt.xlabel('Index')\n",
    "    plt.ylabel('Wait times (min)')\n",
    "    plt.plot(x_index[Axx], dy_true[Axx], color = 'b')\n",
    "    plt.plot(x_index[Axx], dy_pred[Axx], color = 'r')\n",
    "    plt.show()\n",
    "    print('Red', '->', 'Prediction, perride')\n",
    "    print('Blue', '->', 'Actual')"
   ]
  },
  {
   "cell_type": "code",
   "execution_count": null,
   "id": "5b330ab6",
   "metadata": {},
   "outputs": [],
   "source": [
    "def plot_true_vs_pred_overall(Axx):\n",
    "    plt.title('Wait times for '+ Axx)\n",
    "    plt.xlabel('Index')\n",
    "    plt.ylabel('Wait times (min)')\n",
    "    print(Axx)\n",
    "    plt.plot(x_index[Axx], dy_true[Axx], color = 'b')\n",
    "    plt.plot(x_index[Axx], dy_pred_overall[Axx], color = 'r')\n",
    "    plt.show()\n",
    "    print('Red', '->', 'Prediction, overall')\n",
    "    print('Blue', '->', 'Actual')"
   ]
  },
  {
   "cell_type": "code",
   "execution_count": null,
   "id": "c5ced7a4",
   "metadata": {
    "scrolled": false
   },
   "outputs": [],
   "source": [
    "for key in x_index:\n",
    "    Axx = key\n",
    "    plot_true_vs_pred_perride(Axx)"
   ]
  },
  {
   "cell_type": "code",
   "execution_count": null,
   "id": "23f898f3",
   "metadata": {},
   "outputs": [],
   "source": [
    "from tensorflow.keras.models import load_model\n",
    "LTP.save('LTP01.h5')\n",
    "AWT.save('AWT01.h5')"
   ]
  },
  {
   "cell_type": "code",
   "execution_count": null,
   "id": "e7edcc70",
   "metadata": {},
   "outputs": [],
   "source": []
  }
 ],
 "metadata": {
  "kernelspec": {
   "display_name": "Python 3 (ipykernel)",
   "language": "python",
   "name": "python3"
  },
  "language_info": {
   "codemirror_mode": {
    "name": "ipython",
    "version": 3
   },
   "file_extension": ".py",
   "mimetype": "text/x-python",
   "name": "python",
   "nbconvert_exporter": "python",
   "pygments_lexer": "ipython3",
   "version": "3.7.10"
  },
  "varInspector": {
   "cols": {
    "lenName": 16,
    "lenType": 16,
    "lenVar": 40
   },
   "kernels_config": {
    "python": {
     "delete_cmd_postfix": "",
     "delete_cmd_prefix": "del ",
     "library": "var_list.py",
     "varRefreshCmd": "print(var_dic_list())"
    },
    "r": {
     "delete_cmd_postfix": ") ",
     "delete_cmd_prefix": "rm(",
     "library": "var_list.r",
     "varRefreshCmd": "cat(var_dic_list()) "
    }
   },
   "position": {
    "height": "276.4px",
    "left": "719.2px",
    "right": "20px",
    "top": "113px",
    "width": "588px"
   },
   "types_to_exclude": [
    "module",
    "function",
    "builtin_function_or_method",
    "instance",
    "_Feature"
   ],
   "window_display": false
  }
 },
 "nbformat": 4,
 "nbformat_minor": 5
}
